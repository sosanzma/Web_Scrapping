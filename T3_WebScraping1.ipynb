{
 "cells": [
  {
   "cell_type": "markdown",
   "metadata": {},
   "source": [
    "# Web Scraping con Python\n",
    "Vamos a usar las librerías [Requests](https://requests.kennethreitz.org/en/master/) y [BeautifulSoup](https://www.crummy.com/software/BeautifulSoup/bs4/doc/) para hacer web scraping. Instalación (en Anaconda):\n",
    "```\n",
    "conda install requests\n",
    "conda install beautifulsoup4\n",
    "```\n",
    "o con pip:\n",
    "\n",
    "```\n",
    "pip install requests\n",
    "pip install beautifulsoup4\n",
    "```"
   ]
  },
  {
   "cell_type": "markdown",
   "metadata": {},
   "source": [
    "## Librería Request"
   ]
  },
  {
   "cell_type": "code",
   "execution_count": 1,
   "metadata": {},
   "outputs": [],
   "source": [
    "import requests\n",
    "from bs4 import BeautifulSoup"
   ]
  },
  {
   "cell_type": "code",
   "execution_count": 2,
   "metadata": {},
   "outputs": [],
   "source": [
    "#r = requests.get(\"https://es.wikipedia.org/wiki/Web_scraping\")\n",
    "r = requests.get(\"https://idal.uv.es/ejemplo.html\")"
   ]
  },
  {
   "cell_type": "code",
   "execution_count": 3,
   "metadata": {},
   "outputs": [
    {
     "data": {
      "text/plain": [
       "requests.models.Response"
      ]
     },
     "execution_count": 3,
     "metadata": {},
     "output_type": "execute_result"
    }
   ],
   "source": [
    "type(r)"
   ]
  },
  {
   "cell_type": "code",
   "execution_count": 4,
   "metadata": {},
   "outputs": [
    {
     "data": {
      "text/plain": [
       "'https://idal.uv.es/ejemplo.html'"
      ]
     },
     "execution_count": 4,
     "metadata": {},
     "output_type": "execute_result"
    }
   ],
   "source": [
    "r.url"
   ]
  },
  {
   "cell_type": "markdown",
   "metadata": {},
   "source": [
    "Para obtener la respuesta completa (código HTML de la página) como una cadena de texto accedemos al atributo `text`:"
   ]
  },
  {
   "cell_type": "code",
   "execution_count": 5,
   "metadata": {},
   "outputs": [
    {
     "name": "stdout",
     "output_type": "stream",
     "text": [
      "<!DOCTYPE html>\n",
      "<html lang=\"es\">\n",
      "<head>\n",
      "  <title>Página de ejemplo</title>\n",
      "  <meta charset=\"UTF-8\"/>\n",
      "  <meta name=\"viewport\" content=\"width=device-width, initial-scale=1\">\n",
      "  <link rel=\"stylesheet\" href=\"https://maxcdn.bootstrapcdn.com/bootstrap/3.4.0/css/bootstrap.min.css\">\n",
      "</head>\n",
      "<body>\n",
      "\n",
      "  <div class=\"jumbotron text-center\">\n",
      "    <h1>Página de ejemplo</h1>\n",
      "    <p>Página <em>HTML</em> con texto de ejemplo para hacer web scraping</p> \n",
      "  </div>\n",
      "  \n",
      "  <div class=\"container\">\n",
      "    <div class=\"row\">\n",
      "      <div class=\"col-sm-4\">\n",
      "        <h3>Columna 1</h3>\n",
      "        <p>Lorem ipsum dolor sit amet, consectetur adipisicing elit...</p>\n",
      "        <p>Ut enim ad minim veniam, quis nostrud exercitation ullamco laboris...</p>\n",
      "        <a class=\"btn\" href=\"#\" title=\"IDAL\">Enlace 1</a>\n",
      "      </div>\n",
      "      <div class=\"col-sm-4\">\n",
      "        <h3>Columna 2</h3>\n",
      "        <p>Lorem ipsum dolor sit amet, consectetur adipisicing elit...</p>\n",
      "        <p>Ut enim ad minim veniam, quis nostrud exercitation ullamco laboris...</p>\n",
      "        <a class=\"btn\" href=\"#\" title=\"IDAL\">Enlace 2</a>\n",
      "      </div>\n",
      "      <div class=\"col-sm-4\" id=\"col4\">\n",
      "        <h3>Columna 3</h3>        \n",
      "        <p>Lorem ipsum dolor sit amet, consectetur adipisicing elit...</p>\n",
      "        <p>Ut enim ad minim veniam, quis nostrud exercitation ullamco laboris...</p>\n",
      "        <a class=\"btn\" href=\"#\" title=\"IDAL\">Enlace 3</a>\n",
      "      </div>\n",
      "    </div>\n",
      "    <div class=\"row\" id=\"enlaces\">   \n",
      "      <h2>Algunos enlaces de prueba</h2>\n",
      "      <ul>\n",
      "        <li><a class=\"enlace\" href=\"https://idal.uv.es\" title=\"IDAL\">Intelligent Data Analysis Laboratory</a></li>\n",
      "        <li><a class=\"enlace\" href=\"http://etse.uv.es\" title=\"ETSE\">Escola Tècnica Superior d'Enginyeria</a></li>\n",
      "        <li><a class=\"enlace\" href=\"http://uv.es\" title=\"UV\">Universitat de València</a></li>\n",
      "      </ul>\n",
      "    </div>\n",
      "  </div>\n",
      "</body>\n",
      "</html>\n"
     ]
    }
   ],
   "source": [
    "print(r.text)"
   ]
  },
  {
   "cell_type": "markdown",
   "metadata": {},
   "source": [
    "El objeto devuelto es de un tipo específico con unos atributos determinados:"
   ]
  },
  {
   "cell_type": "code",
   "execution_count": 6,
   "metadata": {},
   "outputs": [
    {
     "data": {
      "text/plain": [
       "requests.models.Response"
      ]
     },
     "execution_count": 6,
     "metadata": {},
     "output_type": "execute_result"
    }
   ],
   "source": [
    "type(r)"
   ]
  },
  {
   "cell_type": "code",
   "execution_count": 7,
   "metadata": {},
   "outputs": [
    {
     "data": {
      "text/plain": [
       "['apparent_encoding',\n",
       " 'close',\n",
       " 'connection',\n",
       " 'content',\n",
       " 'cookies',\n",
       " 'elapsed',\n",
       " 'encoding',\n",
       " 'headers',\n",
       " 'history',\n",
       " 'is_permanent_redirect',\n",
       " 'is_redirect',\n",
       " 'iter_content',\n",
       " 'iter_lines',\n",
       " 'json',\n",
       " 'links',\n",
       " 'next',\n",
       " 'ok',\n",
       " 'raise_for_status',\n",
       " 'raw',\n",
       " 'reason',\n",
       " 'request',\n",
       " 'status_code',\n",
       " 'text',\n",
       " 'url']"
      ]
     },
     "execution_count": 7,
     "metadata": {},
     "output_type": "execute_result"
    }
   ],
   "source": [
    "[s for s in dir(r) if not s.startswith('_')]"
   ]
  },
  {
   "cell_type": "markdown",
   "metadata": {},
   "source": [
    "Podemos ver el código de respuesta del servidor (útil para detectar errores 4XX o 5XX):"
   ]
  },
  {
   "cell_type": "code",
   "execution_count": 8,
   "metadata": {},
   "outputs": [
    {
     "data": {
      "text/plain": [
       "200"
      ]
     },
     "execution_count": 8,
     "metadata": {},
     "output_type": "execute_result"
    }
   ],
   "source": [
    "r.status_code"
   ]
  },
  {
   "cell_type": "markdown",
   "metadata": {},
   "source": [
    "Para comprobar el tipo de respuesta (Content Type) y ver si es HTML, JSON, XML, etc.:"
   ]
  },
  {
   "cell_type": "code",
   "execution_count": 9,
   "metadata": {},
   "outputs": [
    {
     "data": {
      "text/plain": [
       "'text/html; charset=UTF-8'"
      ]
     },
     "execution_count": 9,
     "metadata": {},
     "output_type": "execute_result"
    }
   ],
   "source": [
    "r.headers[\"content-type\"]"
   ]
  },
  {
   "cell_type": "markdown",
   "metadata": {},
   "source": [
    "Si el servidor diera la información de la codificación incorrecta (p. ej. ISO-8859-1 para una página UTF-8) podemos forzar una nueva codificación"
   ]
  },
  {
   "cell_type": "code",
   "execution_count": 10,
   "metadata": {},
   "outputs": [
    {
     "data": {
      "text/plain": [
       "'UTF-8'"
      ]
     },
     "execution_count": 10,
     "metadata": {},
     "output_type": "execute_result"
    }
   ],
   "source": [
    "r.encoding"
   ]
  },
  {
   "cell_type": "code",
   "execution_count": 11,
   "metadata": {},
   "outputs": [
    {
     "name": "stdout",
     "output_type": "stream",
     "text": [
      "<!DOCTYPE html>\n",
      "<html lang=\"es\">\n",
      "<head>\n",
      "  <title>Página de ejemplo</title>\n",
      "  <meta charset=\"UTF-8\"/>\n",
      "  <meta name=\"viewport\" content=\"width=device-width, initial-scale=1\">\n",
      "  <link rel=\"stylesheet\" href=\"https://maxcdn.bootstrapcdn.com/bootstrap/3.4.0/css/bootstrap.min.css\">\n",
      "</head>\n",
      "<body>\n",
      "\n",
      "  <div class=\"jumbotron text-center\">\n",
      "    <h1>Página de ejemplo</h1>\n",
      "    <p>Página <em>HTML</em> con texto de ejemplo para hacer web scraping</p> \n",
      "  </div>\n",
      "  \n",
      "  <div class=\"container\">\n",
      "    <div class=\"row\">\n",
      "      <div class=\"col-sm-4\">\n",
      "        <h3>Columna 1</h3>\n",
      "        <p>Lorem ipsum dolor sit amet, consectetur adipisicing elit...</p>\n",
      "        <p>Ut enim ad minim veniam, quis nostrud exercitation ullamco laboris...</p>\n",
      "        <a class=\"btn\" href=\"#\" title=\"IDAL\">Enlace 1</a>\n",
      "      </div>\n",
      "      <div class=\"col-sm-4\">\n",
      "        <h3>Columna 2</h3>\n",
      "        <p>Lorem ipsum dolor sit amet, consectetur adipisicing elit...</p>\n",
      "        <p>Ut enim ad minim veniam, quis nostrud exercitation ullamco laboris...</p>\n",
      "        <a class=\"btn\" href=\"#\" title=\"IDAL\">Enlace 2</a>\n",
      "      </div>\n",
      "      <div class=\"col-sm-4\" id=\"col4\">\n",
      "        <h3>Columna 3</h3>        \n",
      "        <p>Lorem ipsum dolor sit amet, consectetur adipisicing elit...</p>\n",
      "        <p>Ut enim ad minim veniam, quis nostrud exercitation ullamco laboris...</p>\n",
      "        <a class=\"btn\" href=\"#\" title=\"IDAL\">Enlace 3</a>\n",
      "      </div>\n",
      "    </div>\n",
      "    <div class=\"row\" id=\"enlaces\">   \n",
      "      <h2>Algunos enlaces de prueba</h2>\n",
      "      <ul>\n",
      "        <li><a class=\"enlace\" href=\"https://idal.uv.es\" title=\"IDAL\">Intelligent Data Analysis Laboratory</a></li>\n",
      "        <li><a class=\"enlace\" href=\"http://etse.uv.es\" title=\"ETSE\">Escola Tècnica Superior d'Enginyeria</a></li>\n",
      "        <li><a class=\"enlace\" href=\"http://uv.es\" title=\"UV\">Universitat de València</a></li>\n",
      "      </ul>\n",
      "    </div>\n",
      "  </div>\n",
      "</body>\n",
      "</html>\n"
     ]
    }
   ],
   "source": [
    "#r.encoding='UTF-8' #cambiar a ISO-8859-1 para comprobar que muestra mal los acentos\n",
    "r.encoding='UTF-8'\n",
    "print(r.text)"
   ]
  },
  {
   "cell_type": "markdown",
   "metadata": {},
   "source": [
    "Podemos ver todas las cabeceras devueltas:"
   ]
  },
  {
   "cell_type": "code",
   "execution_count": 12,
   "metadata": {},
   "outputs": [
    {
     "data": {
      "text/plain": [
       "{'Date': 'Wed, 30 Mar 2022 11:24:45 GMT', 'Server': 'Apache/2.4.41 (Ubuntu)', 'Last-Modified': 'Wed, 10 Feb 2021 10:11:14 GMT', 'ETag': '\"73d-5baf89f8467b1-gzip\"', 'Accept-Ranges': 'bytes', 'Vary': 'Accept-Encoding', 'Content-Encoding': 'gzip', 'Content-Length': '673', 'Keep-Alive': 'timeout=5, max=100', 'Connection': 'Keep-Alive', 'Content-Type': 'text/html; charset=UTF-8'}"
      ]
     },
     "execution_count": 12,
     "metadata": {},
     "output_type": "execute_result"
    }
   ],
   "source": [
    "r.headers"
   ]
  },
  {
   "cell_type": "markdown",
   "metadata": {},
   "source": [
    "O una cabecera en concreto"
   ]
  },
  {
   "cell_type": "code",
   "execution_count": 13,
   "metadata": {},
   "outputs": [
    {
     "data": {
      "text/plain": [
       "'text/html; charset=UTF-8'"
      ]
     },
     "execution_count": 13,
     "metadata": {},
     "output_type": "execute_result"
    }
   ],
   "source": [
    "r.headers['Content-Type']"
   ]
  },
  {
   "cell_type": "markdown",
   "metadata": {},
   "source": [
    "### Extraer contenido del HTML\n",
    "Usar expresiones regulares para buscar patrones HTML no está recomendado. Es mejor usar una librería para \"parsear\" el HTML y extraer el contenido de las etiquetas específicas.  \n",
    "Aún así, las RegEx se pueden usar para buscar patrones específicos como listas de precios, direcciones de correo, números de teléfono.  \n",
    "Podemos ejecutar una RegEx en el texto de respuesta para buscar un patrón específico, como p. ej. una URL:"
   ]
  },
  {
   "cell_type": "code",
   "execution_count": 14,
   "metadata": {},
   "outputs": [
    {
     "data": {
      "text/plain": [
       "['https://maxcdn.bootstrapcdn.com/bootstrap/3.4.0/css/bootstrap.min.css',\n",
       " 'https://idal.uv.es',\n",
       " 'http://etse.uv.es',\n",
       " 'http://uv.es']"
      ]
     },
     "execution_count": 14,
     "metadata": {},
     "output_type": "execute_result"
    }
   ],
   "source": [
    "import re\n",
    "\n",
    "re.findall(r'https?://[\\w_./]+', r.text)"
   ]
  },
  {
   "cell_type": "markdown",
   "metadata": {},
   "source": [
    "## Librería BeautifulSoup\n",
    "La librería BeautifulSoup se utiliza para extraer contenidos desde una página HTML. Tiene una API muy simple a la vez que potente.  \n",
    "Para empezar, hay que convertir el HTML del texto de respuesta en una estructura DOM jerárquica que se pueda recorrer y buscar.\n"
   ]
  },
  {
   "cell_type": "code",
   "execution_count": 15,
   "metadata": {},
   "outputs": [
    {
     "name": "stdout",
     "output_type": "stream",
     "text": [
      "<!DOCTYPE html>\n",
      "\n",
      "<html lang=\"es\">\n",
      "<head>\n",
      "<title>Página de ejemplo</title>\n",
      "<meta charset=\"utf-8\"/>\n",
      "<meta content=\"width=device-width, initial-scale=1\" name=\"viewport\"/>\n",
      "<link href=\"https://maxcdn.bootstrapcdn.com/bootstrap/3.4.0/css/bootstrap.min.css\" rel=\"stylesheet\"/>\n",
      "</head>\n",
      "<body>\n",
      "<div class=\"jumbotron text-center\">\n",
      "<h1>Página de ejemplo</h1>\n",
      "<p>Página <em>HTML</em> con texto de ejemplo para hacer web scraping</p>\n",
      "</div>\n",
      "<div class=\"container\">\n",
      "<div class=\"row\">\n",
      "<div class=\"col-sm-4\">\n",
      "<h3>Columna 1</h3>\n",
      "<p>Lorem ipsum dolor sit amet, consectetur adipisicing elit...</p>\n",
      "<p>Ut enim ad minim veniam, quis nostrud exercitation ullamco laboris...</p>\n",
      "<a class=\"btn\" href=\"#\" title=\"IDAL\">Enlace 1</a>\n",
      "</div>\n",
      "<div class=\"col-sm-4\">\n",
      "<h3>Columna 2</h3>\n",
      "<p>Lorem ipsum dolor sit amet, consectetur adipisicing elit...</p>\n",
      "<p>Ut enim ad minim veniam, quis nostrud exercitation ullamco laboris...</p>\n",
      "<a class=\"btn\" href=\"#\" title=\"IDAL\">Enlace 2</a>\n",
      "</div>\n",
      "<div class=\"col-sm-4\" id=\"col4\">\n",
      "<h3>Columna 3</h3>\n",
      "<p>Lorem ipsum dolor sit amet, consectetur adipisicing elit...</p>\n",
      "<p>Ut enim ad minim veniam, quis nostrud exercitation ullamco laboris...</p>\n",
      "<a class=\"btn\" href=\"#\" title=\"IDAL\">Enlace 3</a>\n",
      "</div>\n",
      "</div>\n",
      "<div class=\"row\" id=\"enlaces\">\n",
      "<h2>Algunos enlaces de prueba</h2>\n",
      "<ul>\n",
      "<li><a class=\"enlace\" href=\"https://idal.uv.es\" title=\"IDAL\">Intelligent Data Analysis Laboratory</a></li>\n",
      "<li><a class=\"enlace\" href=\"http://etse.uv.es\" title=\"ETSE\">Escola Tècnica Superior d'Enginyeria</a></li>\n",
      "<li><a class=\"enlace\" href=\"http://uv.es\" title=\"UV\">Universitat de València</a></li>\n",
      "</ul>\n",
      "</div>\n",
      "</div>\n",
      "</body>\n",
      "</html>\n",
      "<!DOCTYPE html>\n",
      "<html lang=\"es\">\n",
      " <head>\n",
      "  <title>\n",
      "   Página de ejemplo\n",
      "  </title>\n",
      "  <meta charset=\"utf-8\"/>\n",
      "  <meta content=\"width=device-width, initial-scale=1\" name=\"viewport\"/>\n",
      "  <link href=\"https://maxcdn.bootstrapcdn.com/bootstrap/3.4.0/css/bootstrap.min.css\" rel=\"stylesheet\"/>\n",
      " </head>\n",
      " <body>\n",
      "  <div class=\"jumbotron text-center\">\n",
      "   <h1>\n",
      "    Página de ejemplo\n",
      "   </h1>\n",
      "   <p>\n",
      "    Página\n",
      "    <em>\n",
      "     HTML\n",
      "    </em>\n",
      "    con texto de ejemplo para hacer web scraping\n",
      "   </p>\n",
      "  </div>\n",
      "  <div class=\"container\">\n",
      "   <div class=\"row\">\n",
      "    <div class=\"col-sm-4\">\n",
      "     <h3>\n",
      "      Columna 1\n",
      "     </h3>\n",
      "     <p>\n",
      "      Lorem ipsum dolor sit amet, consectetur adipisicing elit...\n",
      "     </p>\n",
      "     <p>\n",
      "      Ut enim ad minim veniam, quis nostrud exercitation ullamco laboris...\n",
      "     </p>\n",
      "     <a class=\"btn\" href=\"#\" title=\"IDAL\">\n",
      "      Enlace 1\n",
      "     </a>\n",
      "    </div>\n",
      "    <div class=\"col-sm-4\">\n",
      "     <h3>\n",
      "      Columna 2\n",
      "     </h3>\n",
      "     <p>\n",
      "      Lorem ipsum dolor sit amet, consectetur adipisicing elit...\n",
      "     </p>\n",
      "     <p>\n",
      "      Ut enim ad minim veniam, quis nostrud exercitation ullamco laboris...\n",
      "     </p>\n",
      "     <a class=\"btn\" href=\"#\" title=\"IDAL\">\n",
      "      Enlace 2\n",
      "     </a>\n",
      "    </div>\n",
      "    <div class=\"col-sm-4\" id=\"col4\">\n",
      "     <h3>\n",
      "      Columna 3\n",
      "     </h3>\n",
      "     <p>\n",
      "      Lorem ipsum dolor sit amet, consectetur adipisicing elit...\n",
      "     </p>\n",
      "     <p>\n",
      "      Ut enim ad minim veniam, quis nostrud exercitation ullamco laboris...\n",
      "     </p>\n",
      "     <a class=\"btn\" href=\"#\" title=\"IDAL\">\n",
      "      Enlace 3\n",
      "     </a>\n",
      "    </div>\n",
      "   </div>\n",
      "   <div class=\"row\" id=\"enlaces\">\n",
      "    <h2>\n",
      "     Algunos enlaces de prueba\n",
      "    </h2>\n",
      "    <ul>\n",
      "     <li>\n",
      "      <a class=\"enlace\" href=\"https://idal.uv.es\" title=\"IDAL\">\n",
      "       Intelligent Data Analysis Laboratory\n",
      "      </a>\n",
      "     </li>\n",
      "     <li>\n",
      "      <a class=\"enlace\" href=\"http://etse.uv.es\" title=\"ETSE\">\n",
      "       Escola Tècnica Superior d'Enginyeria\n",
      "      </a>\n",
      "     </li>\n",
      "     <li>\n",
      "      <a class=\"enlace\" href=\"http://uv.es\" title=\"UV\">\n",
      "       Universitat de València\n",
      "      </a>\n",
      "     </li>\n",
      "    </ul>\n",
      "   </div>\n",
      "  </div>\n",
      " </body>\n",
      "</html>\n"
     ]
    }
   ],
   "source": [
    "soup = BeautifulSoup(r.text, \"html.parser\")\n",
    "print(soup)\n",
    "print(soup.prettify()) # permite tener una visión más clara de la jerarquía de los elementos de la Web."
   ]
  },
  {
   "cell_type": "code",
   "execution_count": 19,
   "metadata": {},
   "outputs": [
    {
     "data": {
      "text/plain": [
       "bs4.BeautifulSoup"
      ]
     },
     "execution_count": 19,
     "metadata": {},
     "output_type": "execute_result"
    }
   ],
   "source": [
    "type(soup)"
   ]
  },
  {
   "cell_type": "code",
   "execution_count": 16,
   "metadata": {},
   "outputs": [
    {
     "data": {
      "text/plain": [
       "['html',\n",
       " '\\n',\n",
       " <html lang=\"es\">\n",
       " <head>\n",
       " <title>Página de ejemplo</title>\n",
       " <meta charset=\"utf-8\"/>\n",
       " <meta content=\"width=device-width, initial-scale=1\" name=\"viewport\"/>\n",
       " <link href=\"https://maxcdn.bootstrapcdn.com/bootstrap/3.4.0/css/bootstrap.min.css\" rel=\"stylesheet\"/>\n",
       " </head>\n",
       " <body>\n",
       " <div class=\"jumbotron text-center\">\n",
       " <h1>Página de ejemplo</h1>\n",
       " <p>Página <em>HTML</em> con texto de ejemplo para hacer web scraping</p>\n",
       " </div>\n",
       " <div class=\"container\">\n",
       " <div class=\"row\">\n",
       " <div class=\"col-sm-4\">\n",
       " <h3>Columna 1</h3>\n",
       " <p>Lorem ipsum dolor sit amet, consectetur adipisicing elit...</p>\n",
       " <p>Ut enim ad minim veniam, quis nostrud exercitation ullamco laboris...</p>\n",
       " <a class=\"btn\" href=\"#\" title=\"IDAL\">Enlace 1</a>\n",
       " </div>\n",
       " <div class=\"col-sm-4\">\n",
       " <h3>Columna 2</h3>\n",
       " <p>Lorem ipsum dolor sit amet, consectetur adipisicing elit...</p>\n",
       " <p>Ut enim ad minim veniam, quis nostrud exercitation ullamco laboris...</p>\n",
       " <a class=\"btn\" href=\"#\" title=\"IDAL\">Enlace 2</a>\n",
       " </div>\n",
       " <div class=\"col-sm-4\" id=\"col4\">\n",
       " <h3>Columna 3</h3>\n",
       " <p>Lorem ipsum dolor sit amet, consectetur adipisicing elit...</p>\n",
       " <p>Ut enim ad minim veniam, quis nostrud exercitation ullamco laboris...</p>\n",
       " <a class=\"btn\" href=\"#\" title=\"IDAL\">Enlace 3</a>\n",
       " </div>\n",
       " </div>\n",
       " <div class=\"row\" id=\"enlaces\">\n",
       " <h2>Algunos enlaces de prueba</h2>\n",
       " <ul>\n",
       " <li><a class=\"enlace\" href=\"https://idal.uv.es\" title=\"IDAL\">Intelligent Data Analysis Laboratory</a></li>\n",
       " <li><a class=\"enlace\" href=\"http://etse.uv.es\" title=\"ETSE\">Escola Tècnica Superior d'Enginyeria</a></li>\n",
       " <li><a class=\"enlace\" href=\"http://uv.es\" title=\"UV\">Universitat de València</a></li>\n",
       " </ul>\n",
       " </div>\n",
       " </div>\n",
       " </body>\n",
       " </html>]"
      ]
     },
     "execution_count": 16,
     "metadata": {},
     "output_type": "execute_result"
    }
   ],
   "source": [
    "list(soup.children) # lista con 3 elementos"
   ]
  },
  {
   "cell_type": "markdown",
   "metadata": {},
   "source": [
    "Los 3 elementos de la lista son del tipo siguiente: \n",
    "\n",
    "-El primero es un objeto `Doctype`, que contiene información sobre el tipo de documento.\n",
    "\n",
    "-El segundo es un `NavigableString`, que representa texto encontrado en el documento HTML.\n",
    "\n",
    "-El último elemento es un objeto `Tag`, que contiene otros tags anidados.\n"
   ]
  },
  {
   "cell_type": "code",
   "execution_count": 17,
   "metadata": {},
   "outputs": [
    {
     "data": {
      "text/plain": [
       "[bs4.element.Doctype, bs4.element.NavigableString, bs4.element.Tag]"
      ]
     },
     "execution_count": 17,
     "metadata": {},
     "output_type": "execute_result"
    }
   ],
   "source": [
    "[type(item) for item in list(soup.children)]"
   ]
  },
  {
   "cell_type": "markdown",
   "metadata": {},
   "source": [
    "Escogemos el tag `html`y sus hijos tomando el tercer valor de la lista. Cada elemento de la lista devuelta por la propiedad de los hijos también es un objeto BeautifulSoup:"
   ]
  },
  {
   "cell_type": "code",
   "execution_count": 18,
   "metadata": {},
   "outputs": [
    {
     "data": {
      "text/plain": [
       "['\\n',\n",
       " <head>\n",
       " <title>Página de ejemplo</title>\n",
       " <meta charset=\"utf-8\"/>\n",
       " <meta content=\"width=device-width, initial-scale=1\" name=\"viewport\"/>\n",
       " <link href=\"https://maxcdn.bootstrapcdn.com/bootstrap/3.4.0/css/bootstrap.min.css\" rel=\"stylesheet\"/>\n",
       " </head>,\n",
       " '\\n',\n",
       " <body>\n",
       " <div class=\"jumbotron text-center\">\n",
       " <h1>Página de ejemplo</h1>\n",
       " <p>Página <em>HTML</em> con texto de ejemplo para hacer web scraping</p>\n",
       " </div>\n",
       " <div class=\"container\">\n",
       " <div class=\"row\">\n",
       " <div class=\"col-sm-4\">\n",
       " <h3>Columna 1</h3>\n",
       " <p>Lorem ipsum dolor sit amet, consectetur adipisicing elit...</p>\n",
       " <p>Ut enim ad minim veniam, quis nostrud exercitation ullamco laboris...</p>\n",
       " <a class=\"btn\" href=\"#\" title=\"IDAL\">Enlace 1</a>\n",
       " </div>\n",
       " <div class=\"col-sm-4\">\n",
       " <h3>Columna 2</h3>\n",
       " <p>Lorem ipsum dolor sit amet, consectetur adipisicing elit...</p>\n",
       " <p>Ut enim ad minim veniam, quis nostrud exercitation ullamco laboris...</p>\n",
       " <a class=\"btn\" href=\"#\" title=\"IDAL\">Enlace 2</a>\n",
       " </div>\n",
       " <div class=\"col-sm-4\" id=\"col4\">\n",
       " <h3>Columna 3</h3>\n",
       " <p>Lorem ipsum dolor sit amet, consectetur adipisicing elit...</p>\n",
       " <p>Ut enim ad minim veniam, quis nostrud exercitation ullamco laboris...</p>\n",
       " <a class=\"btn\" href=\"#\" title=\"IDAL\">Enlace 3</a>\n",
       " </div>\n",
       " </div>\n",
       " <div class=\"row\" id=\"enlaces\">\n",
       " <h2>Algunos enlaces de prueba</h2>\n",
       " <ul>\n",
       " <li><a class=\"enlace\" href=\"https://idal.uv.es\" title=\"IDAL\">Intelligent Data Analysis Laboratory</a></li>\n",
       " <li><a class=\"enlace\" href=\"http://etse.uv.es\" title=\"ETSE\">Escola Tècnica Superior d'Enginyeria</a></li>\n",
       " <li><a class=\"enlace\" href=\"http://uv.es\" title=\"UV\">Universitat de València</a></li>\n",
       " </ul>\n",
       " </div>\n",
       " </div>\n",
       " </body>,\n",
       " '\\n']"
      ]
     },
     "execution_count": 18,
     "metadata": {},
     "output_type": "execute_result"
    }
   ],
   "source": [
    "html = list(soup.children)[2]\n",
    "list(html.children) # tenemos 2 tags, head y body"
   ]
  },
  {
   "cell_type": "markdown",
   "metadata": {},
   "source": [
    "De esta manera podemos ir bajando en la estructura del HTLM. Si queremos información del body ..."
   ]
  },
  {
   "cell_type": "code",
   "execution_count": 19,
   "metadata": {},
   "outputs": [
    {
     "name": "stdout",
     "output_type": "stream",
     "text": [
      "<div class=\"container\">\n",
      "<div class=\"row\">\n",
      "<div class=\"col-sm-4\">\n",
      "<h3>Columna 1</h3>\n",
      "<p>Lorem ipsum dolor sit amet, consectetur adipisicing elit...</p>\n",
      "<p>Ut enim ad minim veniam, quis nostrud exercitation ullamco laboris...</p>\n",
      "<a class=\"btn\" href=\"#\" title=\"IDAL\">Enlace 1</a>\n",
      "</div>\n",
      "<div class=\"col-sm-4\">\n",
      "<h3>Columna 2</h3>\n",
      "<p>Lorem ipsum dolor sit amet, consectetur adipisicing elit...</p>\n",
      "<p>Ut enim ad minim veniam, quis nostrud exercitation ullamco laboris...</p>\n",
      "<a class=\"btn\" href=\"#\" title=\"IDAL\">Enlace 2</a>\n",
      "</div>\n",
      "<div class=\"col-sm-4\" id=\"col4\">\n",
      "<h3>Columna 3</h3>\n",
      "<p>Lorem ipsum dolor sit amet, consectetur adipisicing elit...</p>\n",
      "<p>Ut enim ad minim veniam, quis nostrud exercitation ullamco laboris...</p>\n",
      "<a class=\"btn\" href=\"#\" title=\"IDAL\">Enlace 3</a>\n",
      "</div>\n",
      "</div>\n",
      "<div class=\"row\" id=\"enlaces\">\n",
      "<h2>Algunos enlaces de prueba</h2>\n",
      "<ul>\n",
      "<li><a class=\"enlace\" href=\"https://idal.uv.es\" title=\"IDAL\">Intelligent Data Analysis Laboratory</a></li>\n",
      "<li><a class=\"enlace\" href=\"http://etse.uv.es\" title=\"ETSE\">Escola Tècnica Superior d'Enginyeria</a></li>\n",
      "<li><a class=\"enlace\" href=\"http://uv.es\" title=\"UV\">Universitat de València</a></li>\n",
      "</ul>\n",
      "</div>\n",
      "</div>\n"
     ]
    }
   ],
   "source": [
    "body = list(html.children)[3]\n",
    "#print(list(body.children))\n",
    "p = list(body.children)[3]\n",
    "print(p)"
   ]
  },
  {
   "cell_type": "code",
   "execution_count": 20,
   "metadata": {},
   "outputs": [
    {
     "data": {
      "text/plain": [
       "\"\\n\\n\\nColumna 1\\nLorem ipsum dolor sit amet, consectetur adipisicing elit...\\nUt enim ad minim veniam, quis nostrud exercitation ullamco laboris...\\nEnlace 1\\n\\n\\nColumna 2\\nLorem ipsum dolor sit amet, consectetur adipisicing elit...\\nUt enim ad minim veniam, quis nostrud exercitation ullamco laboris...\\nEnlace 2\\n\\n\\nColumna 3\\nLorem ipsum dolor sit amet, consectetur adipisicing elit...\\nUt enim ad minim veniam, quis nostrud exercitation ullamco laboris...\\nEnlace 3\\n\\n\\n\\nAlgunos enlaces de prueba\\n\\nIntelligent Data Analysis Laboratory\\nEscola Tècnica Superior d'Enginyeria\\nUniversitat de València\\n\\n\\n\""
      ]
     },
     "execution_count": 20,
     "metadata": {},
     "output_type": "execute_result"
    }
   ],
   "source": [
    "p.get_text()"
   ]
  },
  {
   "cell_type": "markdown",
   "metadata": {},
   "source": [
    "Esta forma de acceder a los diferentes elementos necesita demasiados comandos. Vamos a ver cómo parsear el documento HTLM de manera más sencilla."
   ]
  },
  {
   "cell_type": "markdown",
   "metadata": {},
   "source": [
    "#### Elementos del DOM del objeto soup"
   ]
  },
  {
   "cell_type": "markdown",
   "metadata": {},
   "source": [
    "Podemos referirnos a cada elemento del DOM por su nombre dentro del objeto `soup` (si hay varias apariciones sólo devuelve la primera, como por ejemplo los hipervínculos)"
   ]
  },
  {
   "cell_type": "code",
   "execution_count": 21,
   "metadata": {},
   "outputs": [
    {
     "data": {
      "text/plain": [
       "<title>Página de ejemplo</title>"
      ]
     },
     "execution_count": 21,
     "metadata": {},
     "output_type": "execute_result"
    }
   ],
   "source": [
    "soup.title"
   ]
  },
  {
   "cell_type": "code",
   "execution_count": 22,
   "metadata": {},
   "outputs": [
    {
     "name": "stdout",
     "output_type": "stream",
     "text": [
      "Página de ejemplo\n"
     ]
    }
   ],
   "source": [
    "titulo = soup.title.text\n",
    "print(titulo)"
   ]
  },
  {
   "cell_type": "code",
   "execution_count": 22,
   "metadata": {},
   "outputs": [
    {
     "data": {
      "text/plain": [
       "<a class=\"btn\" href=\"#\" title=\"IDAL\">Enlace 1</a>"
      ]
     },
     "execution_count": 22,
     "metadata": {},
     "output_type": "execute_result"
    }
   ],
   "source": [
    "soup.a"
   ]
  },
  {
   "cell_type": "code",
   "execution_count": 23,
   "metadata": {},
   "outputs": [
    {
     "data": {
      "text/plain": [
       "['btn']"
      ]
     },
     "execution_count": 23,
     "metadata": {},
     "output_type": "execute_result"
    }
   ],
   "source": [
    "soup.a['class']"
   ]
  },
  {
   "cell_type": "markdown",
   "metadata": {},
   "source": [
    "El método `find_all` devuelve una lista con todas las etiquetas que encuentra. El método `find` sólo devuelve el primer resultado de la búsqueda.   \n",
    "En ambos casos, cada etiqueta contiene todo su contenido en la estructura DOM."
   ]
  },
  {
   "cell_type": "code",
   "execution_count": 24,
   "metadata": {},
   "outputs": [
    {
     "data": {
      "text/plain": [
       "<a class=\"btn\" href=\"#\" title=\"IDAL\">Enlace 1</a>"
      ]
     },
     "execution_count": 24,
     "metadata": {},
     "output_type": "execute_result"
    }
   ],
   "source": [
    "link = soup.find(\"a\")\n",
    "link"
   ]
  },
  {
   "cell_type": "markdown",
   "metadata": {},
   "source": [
    "De cada enlace podemos obtener sus atributos"
   ]
  },
  {
   "cell_type": "code",
   "execution_count": 22,
   "metadata": {},
   "outputs": [
    {
     "data": {
      "text/plain": [
       "['btn']"
      ]
     },
     "execution_count": 22,
     "metadata": {},
     "output_type": "execute_result"
    }
   ],
   "source": [
    "link.get('class') #equivalente a link['class']"
   ]
  },
  {
   "cell_type": "code",
   "execution_count": 23,
   "metadata": {},
   "outputs": [
    {
     "data": {
      "text/plain": [
       "{'class': ['btn'], 'href': '#', 'title': 'IDAL'}"
      ]
     },
     "execution_count": 23,
     "metadata": {},
     "output_type": "execute_result"
    }
   ],
   "source": [
    "link.attrs"
   ]
  },
  {
   "cell_type": "markdown",
   "metadata": {},
   "source": [
    "Podemos encadenar varias etiquetas a buscar (p=párrafo, em=texto enfatizado)."
   ]
  },
  {
   "cell_type": "code",
   "execution_count": 32,
   "metadata": {},
   "outputs": [
    {
     "data": {
      "text/plain": [
       "<em>HTML</em>"
      ]
     },
     "execution_count": 32,
     "metadata": {},
     "output_type": "execute_result"
    }
   ],
   "source": [
    "soup.find('p').find('em')"
   ]
  },
  {
   "cell_type": "markdown",
   "metadata": {},
   "source": [
    "Podemos acotar la búsqueda a una clase específica de la etiqueta (p.ej. `<a class=\"enlace\">...</a>`)"
   ]
  },
  {
   "cell_type": "markdown",
   "metadata": {},
   "source": [
    "EL objeto que devuelve `find()` es del tipo `Tag`\n"
   ]
  },
  {
   "cell_type": "code",
   "execution_count": 28,
   "metadata": {},
   "outputs": [
    {
     "data": {
      "text/plain": [
       "bs4.element.Tag"
      ]
     },
     "execution_count": 28,
     "metadata": {},
     "output_type": "execute_result"
    }
   ],
   "source": [
    "type(tag)"
   ]
  },
  {
   "cell_type": "code",
   "execution_count": 25,
   "metadata": {},
   "outputs": [
    {
     "name": "stdout",
     "output_type": "stream",
     "text": [
      "<a class=\"enlace\" href=\"https://idal.uv.es\" title=\"IDAL\">Intelligent Data Analysis Laboratory</a>\n"
     ]
    }
   ],
   "source": [
    "tag = soup.find(\"a\", class_=\"enlace\")\n",
    "print(tag)"
   ]
  },
  {
   "cell_type": "code",
   "execution_count": 26,
   "metadata": {},
   "outputs": [
    {
     "name": "stdout",
     "output_type": "stream",
     "text": [
      "<a class=\"enlace\" href=\"https://idal.uv.es\" title=\"IDAL\">Intelligent Data Analysis Laboratory</a>\n"
     ]
    }
   ],
   "source": [
    "#o simplemente\n",
    "tag = soup.find(\"a\", \"enlace\")\n",
    "print(tag)"
   ]
  },
  {
   "cell_type": "markdown",
   "metadata": {},
   "source": [
    "Podemos buscar una etiqueta con un atributo ID específico (p.ej.: `<div id=\"col4\">...</div>`)"
   ]
  },
  {
   "cell_type": "code",
   "execution_count": 27,
   "metadata": {},
   "outputs": [
    {
     "name": "stdout",
     "output_type": "stream",
     "text": [
      "<div class=\"col-sm-4\" id=\"col4\">\n",
      "<h3>Columna 3</h3>\n",
      "<p>Lorem ipsum dolor sit amet, consectetur adipisicing elit...</p>\n",
      "<p>Ut enim ad minim veniam, quis nostrud exercitation ullamco laboris...</p>\n",
      "<a class=\"btn\" href=\"#\" title=\"IDAL\">Enlace 3</a>\n",
      "</div>\n"
     ]
    }
   ],
   "source": [
    "tag = soup.find(\"div\", id=\"col4\")\n",
    "print(tag)"
   ]
  },
  {
   "cell_type": "code",
   "execution_count": 29,
   "metadata": {},
   "outputs": [
    {
     "data": {
      "text/plain": [
       "['append',\n",
       " 'attrs',\n",
       " 'can_be_empty_element',\n",
       " 'cdata_list_attributes',\n",
       " 'childGenerator',\n",
       " 'children',\n",
       " 'clear',\n",
       " 'contents',\n",
       " 'decode',\n",
       " 'decode_contents',\n",
       " 'decompose',\n",
       " 'decomposed',\n",
       " 'descendants',\n",
       " 'encode',\n",
       " 'encode_contents',\n",
       " 'extend',\n",
       " 'extract',\n",
       " 'fetchNextSiblings',\n",
       " 'fetchParents',\n",
       " 'fetchPrevious',\n",
       " 'fetchPreviousSiblings',\n",
       " 'find',\n",
       " 'findAll',\n",
       " 'findAllNext',\n",
       " 'findAllPrevious',\n",
       " 'findChild',\n",
       " 'findChildren',\n",
       " 'findNext',\n",
       " 'findNextSibling',\n",
       " 'findNextSiblings',\n",
       " 'findParent',\n",
       " 'findParents',\n",
       " 'findPrevious',\n",
       " 'findPreviousSibling',\n",
       " 'findPreviousSiblings',\n",
       " 'find_all',\n",
       " 'find_all_next',\n",
       " 'find_all_previous',\n",
       " 'find_next',\n",
       " 'find_next_sibling',\n",
       " 'find_next_siblings',\n",
       " 'find_parent',\n",
       " 'find_parents',\n",
       " 'find_previous',\n",
       " 'find_previous_sibling',\n",
       " 'find_previous_siblings',\n",
       " 'format_string',\n",
       " 'formatter_for_name',\n",
       " 'get',\n",
       " 'getText',\n",
       " 'get_attribute_list',\n",
       " 'get_text',\n",
       " 'has_attr',\n",
       " 'has_key',\n",
       " 'hidden',\n",
       " 'index',\n",
       " 'insert',\n",
       " 'insert_after',\n",
       " 'insert_before',\n",
       " 'isSelfClosing',\n",
       " 'is_empty_element',\n",
       " 'known_xml',\n",
       " 'name',\n",
       " 'namespace',\n",
       " 'next',\n",
       " 'nextGenerator',\n",
       " 'nextSibling',\n",
       " 'nextSiblingGenerator',\n",
       " 'next_element',\n",
       " 'next_elements',\n",
       " 'next_sibling',\n",
       " 'next_siblings',\n",
       " 'parent',\n",
       " 'parentGenerator',\n",
       " 'parents',\n",
       " 'parserClass',\n",
       " 'parser_class',\n",
       " 'prefix',\n",
       " 'preserve_whitespace_tags',\n",
       " 'prettify',\n",
       " 'previous',\n",
       " 'previousGenerator',\n",
       " 'previousSibling',\n",
       " 'previousSiblingGenerator',\n",
       " 'previous_element',\n",
       " 'previous_elements',\n",
       " 'previous_sibling',\n",
       " 'previous_siblings',\n",
       " 'recursiveChildGenerator',\n",
       " 'renderContents',\n",
       " 'replaceWith',\n",
       " 'replaceWithChildren',\n",
       " 'replace_with',\n",
       " 'replace_with_children',\n",
       " 'select',\n",
       " 'select_one',\n",
       " 'setup',\n",
       " 'smooth',\n",
       " 'sourceline',\n",
       " 'sourcepos',\n",
       " 'string',\n",
       " 'strings',\n",
       " 'stripped_strings',\n",
       " 'text',\n",
       " 'unwrap',\n",
       " 'wrap']"
      ]
     },
     "execution_count": 29,
     "metadata": {},
     "output_type": "execute_result"
    }
   ],
   "source": [
    "#atributos y métodos de Tag\n",
    "[s for s in dir(tag) if not s.startswith('_')]"
   ]
  },
  {
   "cell_type": "markdown",
   "metadata": {},
   "source": [
    "Para buscar todas las etiquetas de un tipo en el árbol DOM (por ejemplo los enlaces `<a>` de una página) "
   ]
  },
  {
   "cell_type": "code",
   "execution_count": 30,
   "metadata": {},
   "outputs": [
    {
     "data": {
      "text/plain": [
       "[<a class=\"btn\" href=\"#\" title=\"IDAL\">Enlace 1</a>,\n",
       " <a class=\"btn\" href=\"#\" title=\"IDAL\">Enlace 2</a>,\n",
       " <a class=\"btn\" href=\"#\" title=\"IDAL\">Enlace 3</a>,\n",
       " <a class=\"enlace\" href=\"https://idal.uv.es\" title=\"IDAL\">Intelligent Data Analysis Laboratory</a>,\n",
       " <a class=\"enlace\" href=\"http://etse.uv.es\" title=\"ETSE\">Escola Tècnica Superior d'Enginyeria</a>,\n",
       " <a class=\"enlace\" href=\"http://uv.es\" title=\"UV\">Universitat de València</a>]"
      ]
     },
     "execution_count": 30,
     "metadata": {},
     "output_type": "execute_result"
    }
   ],
   "source": [
    "soup.find_all(\"a\")"
   ]
  },
  {
   "cell_type": "code",
   "execution_count": 33,
   "metadata": {},
   "outputs": [
    {
     "data": {
      "text/plain": [
       "bs4.element.Tag"
      ]
     },
     "execution_count": 33,
     "metadata": {},
     "output_type": "execute_result"
    }
   ],
   "source": [
    "type(soup.find_all(\"a\")[0])"
   ]
  },
  {
   "cell_type": "code",
   "execution_count": 34,
   "metadata": {},
   "outputs": [
    {
     "data": {
      "text/plain": [
       "[<a class=\"btn\" href=\"#\" title=\"IDAL\">Enlace 1</a>,\n",
       " <a class=\"btn\" href=\"#\" title=\"IDAL\">Enlace 2</a>,\n",
       " <a class=\"btn\" href=\"#\" title=\"IDAL\">Enlace 3</a>,\n",
       " <a class=\"enlace\" href=\"https://idal.uv.es\" title=\"IDAL\">Intelligent Data Analysis Laboratory</a>,\n",
       " <a class=\"enlace\" href=\"http://etse.uv.es\" title=\"ETSE\">Escola Tècnica Superior d'Enginyeria</a>,\n",
       " <a class=\"enlace\" href=\"http://uv.es\" title=\"UV\">Universitat de València</a>]"
      ]
     },
     "execution_count": 34,
     "metadata": {},
     "output_type": "execute_result"
    }
   ],
   "source": [
    "#hay un shortcut para find_all\n",
    "soup(\"a\")"
   ]
  },
  {
   "cell_type": "code",
   "execution_count": 35,
   "metadata": {},
   "outputs": [
    {
     "data": {
      "text/plain": [
       "[<p>Página <em>HTML</em> con texto de ejemplo para hacer web scraping</p>,\n",
       " <p>Lorem ipsum dolor sit amet, consectetur adipisicing elit...</p>,\n",
       " <p>Ut enim ad minim veniam, quis nostrud exercitation ullamco laboris...</p>,\n",
       " <a class=\"btn\" href=\"#\" title=\"IDAL\">Enlace 1</a>,\n",
       " <p>Lorem ipsum dolor sit amet, consectetur adipisicing elit...</p>,\n",
       " <p>Ut enim ad minim veniam, quis nostrud exercitation ullamco laboris...</p>,\n",
       " <a class=\"btn\" href=\"#\" title=\"IDAL\">Enlace 2</a>,\n",
       " <p>Lorem ipsum dolor sit amet, consectetur adipisicing elit...</p>,\n",
       " <p>Ut enim ad minim veniam, quis nostrud exercitation ullamco laboris...</p>,\n",
       " <a class=\"btn\" href=\"#\" title=\"IDAL\">Enlace 3</a>,\n",
       " <a class=\"enlace\" href=\"https://idal.uv.es\" title=\"IDAL\">Intelligent Data Analysis Laboratory</a>,\n",
       " <a class=\"enlace\" href=\"http://etse.uv.es\" title=\"ETSE\">Escola Tècnica Superior d'Enginyeria</a>,\n",
       " <a class=\"enlace\" href=\"http://uv.es\" title=\"UV\">Universitat de València</a>]"
      ]
     },
     "execution_count": 35,
     "metadata": {},
     "output_type": "execute_result"
    }
   ],
   "source": [
    "soup.find_all([\"a\", \"p\"])"
   ]
  },
  {
   "cell_type": "code",
   "execution_count": 36,
   "metadata": {},
   "outputs": [
    {
     "data": {
      "text/plain": [
       "[<h1>Página de ejemplo</h1>,\n",
       " <h3>Columna 1</h3>,\n",
       " <h3>Columna 2</h3>,\n",
       " <h3>Columna 3</h3>,\n",
       " <h2>Algunos enlaces de prueba</h2>]"
      ]
     },
     "execution_count": 36,
     "metadata": {},
     "output_type": "execute_result"
    }
   ],
   "source": [
    "soup.find_all(re.compile(\"h\\d+\"))"
   ]
  },
  {
   "cell_type": "markdown",
   "metadata": {},
   "source": [
    "Podemos filtrar por un atributo del Tag (por defecto es la clase si no indicamos otra cosa)"
   ]
  },
  {
   "cell_type": "code",
   "execution_count": 37,
   "metadata": {},
   "outputs": [
    {
     "name": "stdout",
     "output_type": "stream",
     "text": [
      "<a class=\"enlace\" href=\"https://idal.uv.es\" title=\"IDAL\">Intelligent Data Analysis Laboratory</a>\n",
      "<a class=\"enlace\" href=\"http://etse.uv.es\" title=\"ETSE\">Escola Tècnica Superior d'Enginyeria</a>\n",
      "<a class=\"enlace\" href=\"http://uv.es\" title=\"UV\">Universitat de València</a>\n"
     ]
    }
   ],
   "source": [
    "for link in soup.find_all('a', class_=\"enlace\"):\n",
    "    print(link)"
   ]
  },
  {
   "cell_type": "markdown",
   "metadata": {},
   "source": [
    "También podemos obtener los atributos de cada uno de los elementos de una lista de etiquetas obtenida con `find_all` o `select`"
   ]
  },
  {
   "cell_type": "code",
   "execution_count": 43,
   "metadata": {},
   "outputs": [
    {
     "name": "stdout",
     "output_type": "stream",
     "text": [
      "https://idal.uv.es\n",
      "http://etse.uv.es\n",
      "http://uv.es\n"
     ]
    }
   ],
   "source": [
    "for link in soup.find_all('a', class_=\"enlace\"):\n",
    "    print(link[\"href\"])"
   ]
  },
  {
   "cell_type": "code",
   "execution_count": 44,
   "metadata": {},
   "outputs": [
    {
     "name": "stdout",
     "output_type": "stream",
     "text": [
      "<a class=\"btn\" href=\"#\" title=\"IDAL\">Enlace 1</a>\n",
      "<a class=\"btn\" href=\"#\" title=\"IDAL\">Enlace 2</a>\n",
      "<a class=\"btn\" href=\"#\" title=\"IDAL\">Enlace 3</a>\n"
     ]
    }
   ],
   "source": [
    "enlaces = soup.find_all(\"a\", \"btn\")\n",
    "for e in enlaces:\n",
    "    print(e)"
   ]
  },
  {
   "cell_type": "markdown",
   "metadata": {},
   "source": [
    "Podemos hacer una búsqueda de otra etiqueta anidada dentro de la primera búsqueda (útil por ejemplo para buscar elementos genéricos dentro de una sección específica de la página)"
   ]
  },
  {
   "cell_type": "code",
   "execution_count": 40,
   "metadata": {},
   "outputs": [
    {
     "name": "stdout",
     "output_type": "stream",
     "text": [
      "[<a class=\"btn\" href=\"#\" title=\"IDAL\">Enlace 3</a>]\n"
     ]
    }
   ],
   "source": [
    "tags = soup.find(\"div\", id=\"col4\").find_all(\"a\")\n",
    "print(tags)"
   ]
  },
  {
   "cell_type": "markdown",
   "metadata": {},
   "source": [
    "Repetimos esta búsqueda especificando un selector CSS (más simple que lo anterior si se conoce la sintaxis CSS)"
   ]
  },
  {
   "cell_type": "code",
   "execution_count": 41,
   "metadata": {},
   "outputs": [
    {
     "name": "stdout",
     "output_type": "stream",
     "text": [
      "[<a class=\"btn\" href=\"#\" title=\"IDAL\">Enlace 3</a>]\n"
     ]
    }
   ],
   "source": [
    "tags = soup.select(\"#col4 a\")\n",
    "print(tags)"
   ]
  },
  {
   "cell_type": "code",
   "execution_count": 42,
   "metadata": {},
   "outputs": [
    {
     "data": {
      "text/plain": [
       "bs4.element.ResultSet"
      ]
     },
     "execution_count": 42,
     "metadata": {},
     "output_type": "execute_result"
    }
   ],
   "source": [
    "type(tags)"
   ]
  },
  {
   "cell_type": "markdown",
   "metadata": {},
   "source": [
    "El atributo `contents` del resultado de una etiqueta individual (objeto `bs4.element.Tag`) contiene una lista de objetos con su contenido interno (que incluye tanto los nodos de texto como la representación y texto de todo el HTML anidado).  \n",
    "Si el objeto sólo contiene texto es del tipo `NavigableString`, y si contiene etiqueta es del tipo `Tag`. Los saltos de línea (`\\n`) entre las etiquetas se consideran elementos de texto y aparecen en la lista devuelta."
   ]
  },
  {
   "cell_type": "code",
   "execution_count": 43,
   "metadata": {},
   "outputs": [
    {
     "name": "stdout",
     "output_type": "stream",
     "text": [
      "<title>Página de ejemplo</title>\n"
     ]
    }
   ],
   "source": [
    "print(soup.find(\"title\"))"
   ]
  },
  {
   "cell_type": "code",
   "execution_count": 44,
   "metadata": {},
   "outputs": [
    {
     "name": "stdout",
     "output_type": "stream",
     "text": [
      "['Página de ejemplo']\n"
     ]
    }
   ],
   "source": [
    "inner_contents = soup.find(\"title\").contents\n",
    "print(inner_contents)"
   ]
  },
  {
   "cell_type": "code",
   "execution_count": 45,
   "metadata": {},
   "outputs": [
    {
     "data": {
      "text/plain": [
       "<div class=\"col-sm-4\" id=\"col4\">\n",
       "<h3>Columna 3</h3>\n",
       "<p>Lorem ipsum dolor sit amet, consectetur adipisicing elit...</p>\n",
       "<p>Ut enim ad minim veniam, quis nostrud exercitation ullamco laboris...</p>\n",
       "<a class=\"btn\" href=\"#\" title=\"IDAL\">Enlace 3</a>\n",
       "</div>"
      ]
     },
     "execution_count": 45,
     "metadata": {},
     "output_type": "execute_result"
    }
   ],
   "source": [
    "soup.find(\"div\", id=\"col4\")"
   ]
  },
  {
   "cell_type": "code",
   "execution_count": 46,
   "metadata": {},
   "outputs": [
    {
     "name": "stdout",
     "output_type": "stream",
     "text": [
      "['\\n', <h3>Columna 3</h3>, '\\n', <p>Lorem ipsum dolor sit amet, consectetur adipisicing elit...</p>, '\\n', <p>Ut enim ad minim veniam, quis nostrud exercitation ullamco laboris...</p>, '\\n', <a class=\"btn\" href=\"#\" title=\"IDAL\">Enlace 3</a>, '\\n']\n"
     ]
    }
   ],
   "source": [
    "inner_contents = soup.find(\"div\", id=\"col4\").contents\n",
    "print(inner_contents)"
   ]
  },
  {
   "cell_type": "code",
   "execution_count": 47,
   "metadata": {},
   "outputs": [
    {
     "data": {
      "text/plain": [
       "'\\n'"
      ]
     },
     "execution_count": 47,
     "metadata": {},
     "output_type": "execute_result"
    }
   ],
   "source": [
    "inner_contents[0]"
   ]
  },
  {
   "cell_type": "code",
   "execution_count": 46,
   "metadata": {},
   "outputs": [
    {
     "data": {
      "text/plain": [
       "bs4.element.NavigableString"
      ]
     },
     "execution_count": 46,
     "metadata": {},
     "output_type": "execute_result"
    }
   ],
   "source": [
    "type(inner_contents[0])"
   ]
  },
  {
   "cell_type": "code",
   "execution_count": 47,
   "metadata": {},
   "outputs": [
    {
     "data": {
      "text/plain": [
       "<h3>Columna 3</h3>"
      ]
     },
     "execution_count": 47,
     "metadata": {},
     "output_type": "execute_result"
    }
   ],
   "source": [
    "inner_contents[1]"
   ]
  },
  {
   "cell_type": "code",
   "execution_count": 48,
   "metadata": {},
   "outputs": [
    {
     "data": {
      "text/plain": [
       "bs4.element.Tag"
      ]
     },
     "execution_count": 48,
     "metadata": {},
     "output_type": "execute_result"
    }
   ],
   "source": [
    "type(inner_contents[1])"
   ]
  },
  {
   "cell_type": "markdown",
   "metadata": {},
   "source": [
    "El atributo `text` del objeto `bs4.element.Tag` contiene una lista de strings con los textos contenidos en la etiqueta, ignorando todas las etiquetas HTML (como por ejemplo `<span>`, `<strong>` o `<i>`):"
   ]
  },
  {
   "cell_type": "code",
   "execution_count": 49,
   "metadata": {},
   "outputs": [
    {
     "name": "stdout",
     "output_type": "stream",
     "text": [
      "Columna 3\n",
      "Lorem ipsum dolor sit amet, consectetur adipisicing elit...\n",
      "Ut enim ad minim veniam, quis nostrud exercitation ullamco laboris...\n",
      "Enlace 3\n"
     ]
    }
   ],
   "source": [
    "inner_text = soup.find(\"div\", id=\"col4\").text.strip()\n",
    "print(inner_text)"
   ]
  },
  {
   "cell_type": "markdown",
   "metadata": {},
   "source": [
    "Aquí el método `strip()` simplemente elimina las líneas en blanco (`\\n`) del resultado.  "
   ]
  },
  {
   "cell_type": "markdown",
   "metadata": {},
   "source": [
    "### Búsqueda por función\n",
    "Podemos definir una función booleana para hacer la búsqueda de elementos en el árbol DOM"
   ]
  },
  {
   "cell_type": "code",
   "execution_count": 50,
   "metadata": {},
   "outputs": [
    {
     "data": {
      "text/plain": [
       "[<div class=\"col-sm-4\" id=\"col4\">\n",
       " <h3>Columna 3</h3>\n",
       " <p>Lorem ipsum dolor sit amet, consectetur adipisicing elit...</p>\n",
       " <p>Ut enim ad minim veniam, quis nostrud exercitation ullamco laboris...</p>\n",
       " <a class=\"btn\" href=\"#\" title=\"IDAL\">Enlace 3</a>\n",
       " </div>,\n",
       " <div class=\"row\" id=\"enlaces\">\n",
       " <h2>Algunos enlaces de prueba</h2>\n",
       " <ul>\n",
       " <li><a class=\"enlace\" href=\"https://idal.uv.es\" title=\"IDAL\">Intelligent Data Analysis Laboratory</a></li>\n",
       " <li><a class=\"enlace\" href=\"http://etse.uv.es\" title=\"ETSE\">Escola Tècnica Superior d'Enginyeria</a></li>\n",
       " <li><a class=\"enlace\" href=\"http://uv.es\" title=\"UV\">Universitat de València</a></li>\n",
       " </ul>\n",
       " </div>]"
      ]
     },
     "execution_count": 50,
     "metadata": {},
     "output_type": "execute_result"
    }
   ],
   "source": [
    "def etiquetas(tag):\n",
    "    return tag.has_attr('id')\n",
    "\n",
    "soup.find_all(etiquetas)"
   ]
  },
  {
   "cell_type": "code",
   "execution_count": 49,
   "metadata": {},
   "outputs": [
    {
     "data": {
      "text/plain": [
       "[('div', {'class': ['col-sm-4'], 'id': 'col4'}),\n",
       " ('div', {'class': ['row'], 'id': 'enlaces'})]"
      ]
     },
     "execution_count": 49,
     "metadata": {},
     "output_type": "execute_result"
    }
   ],
   "source": [
    "[(t.name, t.attrs) for t in soup.find_all(etiquetas)]"
   ]
  },
  {
   "cell_type": "markdown",
   "metadata": {},
   "source": [
    "## Navegación por la estructura DOM\n",
    "Cada elemento `Tag` guarda información de su posición dentro del árbol de etiquetas HTML del documento (estructura DOM) de manera que se puede navegar desde cada etiqueta a sus etiquetas relacionadas:\n",
    "### Navegar hacia abajo\n",
    "Podemos usar los nombres de las etiquetas como atributos encadenados del objeto `soup` para recorrer el árbol hacia abajo:"
   ]
  },
  {
   "cell_type": "code",
   "execution_count": 51,
   "metadata": {},
   "outputs": [
    {
     "data": {
      "text/plain": [
       "<h1>Página de ejemplo</h1>"
      ]
     },
     "execution_count": 51,
     "metadata": {},
     "output_type": "execute_result"
    }
   ],
   "source": [
    "soup.div.h1 #busca la primera etiqueta <h1> dentro de la primera etiqueta <div> "
   ]
  },
  {
   "cell_type": "code",
   "execution_count": 54,
   "metadata": {},
   "outputs": [
    {
     "data": {
      "text/plain": [
       "<h3>Columna 1</h3>"
      ]
     },
     "execution_count": 54,
     "metadata": {},
     "output_type": "execute_result"
    }
   ],
   "source": [
    "soup(\"div\")[1].h3"
   ]
  },
  {
   "cell_type": "markdown",
   "metadata": {},
   "source": [
    "Todos los hijos de una etiqueta están en su atributo `contents`:"
   ]
  },
  {
   "cell_type": "code",
   "execution_count": 48,
   "metadata": {},
   "outputs": [
    {
     "data": {
      "text/plain": [
       "['\\n',\n",
       " <h1>Página de ejemplo</h1>,\n",
       " '\\n',\n",
       " <p>Página <em>HTML</em> con texto de ejemplo para hacer web scraping</p>,\n",
       " '\\n']"
      ]
     },
     "execution_count": 48,
     "metadata": {},
     "output_type": "execute_result"
    }
   ],
   "source": [
    "soup.div.contents"
   ]
  },
  {
   "cell_type": "markdown",
   "metadata": {},
   "source": [
    "Las etiquetas que sólo contienen texto aparecen en la lista de `contents` como un objeto `NavigableString`"
   ]
  },
  {
   "cell_type": "code",
   "execution_count": 55,
   "metadata": {},
   "outputs": [
    {
     "data": {
      "text/plain": [
       "['Página de ejemplo']"
      ]
     },
     "execution_count": 55,
     "metadata": {},
     "output_type": "execute_result"
    }
   ],
   "source": [
    "soup.div.h1.contents"
   ]
  },
  {
   "cell_type": "code",
   "execution_count": 56,
   "metadata": {},
   "outputs": [
    {
     "data": {
      "text/plain": [
       "bs4.element.NavigableString"
      ]
     },
     "execution_count": 56,
     "metadata": {},
     "output_type": "execute_result"
    }
   ],
   "source": [
    "type(soup.div.h1.contents[0])"
   ]
  },
  {
   "cell_type": "markdown",
   "metadata": {},
   "source": [
    "Podemos iterar sobre los descendientes de una etiqueta con el iterador `children`:"
   ]
  },
  {
   "cell_type": "code",
   "execution_count": 57,
   "metadata": {},
   "outputs": [
    {
     "data": {
      "text/plain": [
       "<list_iterator at 0x7f943b77d5d0>"
      ]
     },
     "execution_count": 57,
     "metadata": {},
     "output_type": "execute_result"
    }
   ],
   "source": [
    "soup.div.children"
   ]
  },
  {
   "cell_type": "code",
   "execution_count": 58,
   "metadata": {},
   "outputs": [
    {
     "data": {
      "text/plain": [
       "['\\n',\n",
       " <h1>Página de ejemplo</h1>,\n",
       " '\\n',\n",
       " <p>Página <em>HTML</em> con texto de ejemplo para hacer web scraping</p>,\n",
       " '\\n']"
      ]
     },
     "execution_count": 58,
     "metadata": {},
     "output_type": "execute_result"
    }
   ],
   "source": [
    "[child for child in soup.div.children]"
   ]
  },
  {
   "cell_type": "code",
   "execution_count": 59,
   "metadata": {},
   "outputs": [
    {
     "data": {
      "text/plain": [
       "True"
      ]
     },
     "execution_count": 59,
     "metadata": {},
     "output_type": "execute_result"
    }
   ],
   "source": [
    "#la lista que genera children es equivalente a contents\n",
    "list(soup.div.children)==soup.div.contents"
   ]
  },
  {
   "cell_type": "markdown",
   "metadata": {},
   "source": [
    "Con `contents` y `children` consideran sólo los descencientes directos de una etiqueta. Con `descendants` accedemos iterativamente a todos sus descendientes:"
   ]
  },
  {
   "cell_type": "code",
   "execution_count": 60,
   "metadata": {},
   "outputs": [
    {
     "data": {
      "text/plain": [
       "<p>Página <em>HTML</em> con texto de ejemplo para hacer web scraping</p>"
      ]
     },
     "execution_count": 60,
     "metadata": {},
     "output_type": "execute_result"
    }
   ],
   "source": [
    "soup.div.p"
   ]
  },
  {
   "cell_type": "code",
   "execution_count": 61,
   "metadata": {},
   "outputs": [
    {
     "data": {
      "text/plain": [
       "<p>Página <em>HTML</em> con texto de ejemplo para hacer web scraping</p>"
      ]
     },
     "execution_count": 61,
     "metadata": {},
     "output_type": "execute_result"
    }
   ],
   "source": [
    "soup.div.p"
   ]
  },
  {
   "cell_type": "code",
   "execution_count": 62,
   "metadata": {},
   "outputs": [
    {
     "data": {
      "text/plain": [
       "<generator object Tag.descendants at 0x7f943b7655d0>"
      ]
     },
     "execution_count": 62,
     "metadata": {},
     "output_type": "execute_result"
    }
   ],
   "source": [
    "soup.div.p.descendants"
   ]
  },
  {
   "cell_type": "code",
   "execution_count": 63,
   "metadata": {},
   "outputs": [
    {
     "data": {
      "text/plain": [
       "['Página ',\n",
       " <em>HTML</em>,\n",
       " 'HTML',\n",
       " ' con texto de ejemplo para hacer web scraping']"
      ]
     },
     "execution_count": 63,
     "metadata": {},
     "output_type": "execute_result"
    }
   ],
   "source": [
    "[child for child in soup.div.p.descendants]"
   ]
  },
  {
   "cell_type": "markdown",
   "metadata": {},
   "source": [
    "Para obtener sólo el texto de una etiqueta usamos `string` o para obtener iterativamente todos los textos contenidos usamos el iterador `strings`:"
   ]
  },
  {
   "cell_type": "code",
   "execution_count": 64,
   "metadata": {},
   "outputs": [
    {
     "data": {
      "text/plain": [
       "'Página de ejemplo'"
      ]
     },
     "execution_count": 64,
     "metadata": {},
     "output_type": "execute_result"
    }
   ],
   "source": [
    "soup.div.h1.string"
   ]
  },
  {
   "cell_type": "code",
   "execution_count": 65,
   "metadata": {},
   "outputs": [
    {
     "data": {
      "text/plain": [
       "<p>Página <em>HTML</em> con texto de ejemplo para hacer web scraping</p>"
      ]
     },
     "execution_count": 65,
     "metadata": {},
     "output_type": "execute_result"
    }
   ],
   "source": [
    "#si una etiqueta contiene otras etiquetas el atributo string está vacío\n",
    "soup.div.p"
   ]
  },
  {
   "cell_type": "code",
   "execution_count": 66,
   "metadata": {},
   "outputs": [],
   "source": [
    "soup.div.p.string"
   ]
  },
  {
   "cell_type": "code",
   "execution_count": 67,
   "metadata": {},
   "outputs": [
    {
     "data": {
      "text/plain": [
       "['Página ', 'HTML', ' con texto de ejemplo para hacer web scraping']"
      ]
     },
     "execution_count": 67,
     "metadata": {},
     "output_type": "execute_result"
    }
   ],
   "source": [
    "#iteramos por todos los elementos contenidos para obtener su string\n",
    "[s for s in soup.div.p.strings]"
   ]
  },
  {
   "cell_type": "markdown",
   "metadata": {},
   "source": [
    "### Navegar hacia arriba\n",
    "Con `parent` obtenemos la etiqueta superior a una dada, y con `parents` obtenemos iterativamente todos sus ascendientes:"
   ]
  },
  {
   "cell_type": "code",
   "execution_count": 68,
   "metadata": {},
   "outputs": [
    {
     "data": {
      "text/plain": [
       "<div class=\"jumbotron text-center\">\n",
       "<h1>Página de ejemplo</h1>\n",
       "<p>Página <em>HTML</em> con texto de ejemplo para hacer web scraping</p>\n",
       "</div>"
      ]
     },
     "execution_count": 68,
     "metadata": {},
     "output_type": "execute_result"
    }
   ],
   "source": [
    "soup.div.h1.parent"
   ]
  },
  {
   "cell_type": "code",
   "execution_count": 69,
   "metadata": {},
   "outputs": [
    {
     "data": {
      "text/plain": [
       "<div class=\"row\">\n",
       "<div class=\"col-sm-4\">\n",
       "<h3>Columna 1</h3>\n",
       "<p>Lorem ipsum dolor sit amet, consectetur adipisicing elit...</p>\n",
       "<p>Ut enim ad minim veniam, quis nostrud exercitation ullamco laboris...</p>\n",
       "<a class=\"btn\" href=\"#\" title=\"IDAL\">Enlace 1</a>\n",
       "</div>\n",
       "<div class=\"col-sm-4\">\n",
       "<h3>Columna 2</h3>\n",
       "<p>Lorem ipsum dolor sit amet, consectetur adipisicing elit...</p>\n",
       "<p>Ut enim ad minim veniam, quis nostrud exercitation ullamco laboris...</p>\n",
       "<a class=\"btn\" href=\"#\" title=\"IDAL\">Enlace 2</a>\n",
       "</div>\n",
       "<div class=\"col-sm-4\" id=\"col4\">\n",
       "<h3>Columna 3</h3>\n",
       "<p>Lorem ipsum dolor sit amet, consectetur adipisicing elit...</p>\n",
       "<p>Ut enim ad minim veniam, quis nostrud exercitation ullamco laboris...</p>\n",
       "<a class=\"btn\" href=\"#\" title=\"IDAL\">Enlace 3</a>\n",
       "</div>\n",
       "</div>"
      ]
     },
     "execution_count": 69,
     "metadata": {},
     "output_type": "execute_result"
    }
   ],
   "source": [
    "soup.find(\"div\", id=\"col4\").parent"
   ]
  },
  {
   "cell_type": "code",
   "execution_count": 70,
   "metadata": {},
   "outputs": [
    {
     "name": "stdout",
     "output_type": "stream",
     "text": [
      "div {'class': ['row']}\n",
      "div {'class': ['container']}\n",
      "body {}\n",
      "html {'lang': 'es'}\n",
      "[document] {}\n"
     ]
    }
   ],
   "source": [
    "for p in soup.find(\"div\", id=\"col4\").parents:\n",
    "    print(p.name, p.attrs)"
   ]
  },
  {
   "cell_type": "markdown",
   "metadata": {},
   "source": [
    "### Navegar hacia los lados\n",
    "Los métodos `next_sibling` y `previous_sibling` acceden a la etiqueta posterior o anterior del mismo nivel. Los métodos `next_siblings` y `previous_siblings` lo hacen iterativamente"
   ]
  },
  {
   "cell_type": "code",
   "execution_count": 71,
   "metadata": {},
   "outputs": [
    {
     "data": {
      "text/plain": [
       "<div class=\"row\" id=\"enlaces\">\n",
       "<h2>Algunos enlaces de prueba</h2>\n",
       "<ul>\n",
       "<li><a class=\"enlace\" href=\"https://idal.uv.es\" title=\"IDAL\">Intelligent Data Analysis Laboratory</a></li>\n",
       "<li><a class=\"enlace\" href=\"http://etse.uv.es\" title=\"ETSE\">Escola Tècnica Superior d'Enginyeria</a></li>\n",
       "<li><a class=\"enlace\" href=\"http://uv.es\" title=\"UV\">Universitat de València</a></li>\n",
       "</ul>\n",
       "</div>"
      ]
     },
     "execution_count": 71,
     "metadata": {},
     "output_type": "execute_result"
    }
   ],
   "source": [
    "soup.find(\"div\", id=\"enlaces\")"
   ]
  },
  {
   "cell_type": "code",
   "execution_count": 72,
   "metadata": {},
   "outputs": [
    {
     "data": {
      "text/plain": [
       "['\\n',\n",
       " <li><a class=\"enlace\" href=\"https://idal.uv.es\" title=\"IDAL\">Intelligent Data Analysis Laboratory</a></li>,\n",
       " '\\n',\n",
       " <li><a class=\"enlace\" href=\"http://etse.uv.es\" title=\"ETSE\">Escola Tècnica Superior d'Enginyeria</a></li>,\n",
       " '\\n',\n",
       " <li><a class=\"enlace\" href=\"http://uv.es\" title=\"UV\">Universitat de València</a></li>,\n",
       " '\\n']"
      ]
     },
     "execution_count": 72,
     "metadata": {},
     "output_type": "execute_result"
    }
   ],
   "source": [
    "soup.find(\"div\", id=\"enlaces\").ul.contents"
   ]
  },
  {
   "cell_type": "code",
   "execution_count": 73,
   "metadata": {},
   "outputs": [
    {
     "data": {
      "text/plain": [
       "'\\n'"
      ]
     },
     "execution_count": 73,
     "metadata": {},
     "output_type": "execute_result"
    }
   ],
   "source": [
    "soup.find(\"div\", id=\"enlaces\").li.previous_sibling"
   ]
  },
  {
   "cell_type": "code",
   "execution_count": 74,
   "metadata": {},
   "outputs": [
    {
     "data": {
      "text/plain": [
       "<li><a class=\"enlace\" href=\"http://etse.uv.es\" title=\"ETSE\">Escola Tècnica Superior d'Enginyeria</a></li>"
      ]
     },
     "execution_count": 74,
     "metadata": {},
     "output_type": "execute_result"
    }
   ],
   "source": [
    "soup.find(\"div\", id=\"enlaces\").li.next_sibling.next_sibling"
   ]
  },
  {
   "cell_type": "code",
   "execution_count": 75,
   "metadata": {},
   "outputs": [
    {
     "data": {
      "text/plain": [
       "<li><a class=\"enlace\" href=\"http://etse.uv.es\" title=\"ETSE\">Escola Tècnica Superior d'Enginyeria</a></li>"
      ]
     },
     "execution_count": 75,
     "metadata": {},
     "output_type": "execute_result"
    }
   ],
   "source": [
    "soup.find(\"div\", id=\"enlaces\").find(\"a\",{\"title\": \"ETSE\"}).parent"
   ]
  },
  {
   "cell_type": "code",
   "execution_count": 76,
   "metadata": {},
   "outputs": [
    {
     "data": {
      "text/plain": [
       "['\\n',\n",
       " <li><a class=\"enlace\" href=\"http://uv.es\" title=\"UV\">Universitat de València</a></li>,\n",
       " '\\n']"
      ]
     },
     "execution_count": 76,
     "metadata": {},
     "output_type": "execute_result"
    }
   ],
   "source": [
    "#buscamos elementos hermanos a continuación del <li> intermedio\n",
    "enlace_etse = soup.find(\"div\", id=\"enlaces\").find(\"a\",{\"title\": \"ETSE\"})\n",
    "[tag for tag in enlace_etse.parent.next_siblings]"
   ]
  },
  {
   "cell_type": "code",
   "execution_count": 77,
   "metadata": {},
   "outputs": [
    {
     "data": {
      "text/plain": [
       "['\\n',\n",
       " <li><a class=\"enlace\" href=\"http://etse.uv.es\" title=\"ETSE\">Escola Tècnica Superior d'Enginyeria</a></li>,\n",
       " '\\n',\n",
       " <li><a class=\"enlace\" href=\"https://idal.uv.es\" title=\"IDAL\">Intelligent Data Analysis Laboratory</a></li>,\n",
       " '\\n']"
      ]
     },
     "execution_count": 77,
     "metadata": {},
     "output_type": "execute_result"
    }
   ],
   "source": [
    "#buscamos elementos hermanos anteriores al <li> final\n",
    "\n",
    "[tag for tag in soup.find(\"div\", id=\"enlaces\").find(\"a\",{\"title\": \"UV\"}).parent.previous_siblings]"
   ]
  },
  {
   "cell_type": "markdown",
   "metadata": {},
   "source": [
    "### Ejemplo completo\n",
    "Del siguiente código HTML vamos a extraer los ítems listados y su precio"
   ]
  },
  {
   "cell_type": "code",
   "execution_count": 23,
   "metadata": {},
   "outputs": [],
   "source": [
    "texto = \"\"\"\n",
    "<body>\n",
    "<div id=\"listings_prices\">\n",
    " <div class=\"item\">\n",
    "  <li class=\"item_name\">Watch</li>\n",
    "  <div class=\"main_price\">Price: $66.68</div>\n",
    "  <div class=\"discounted_price\">Discounted price: $46.68</div>\n",
    "   </div>\n",
    "   <div class=\"item\">\n",
    "  <li class=\"item_name\">Watch2</li>\n",
    "  <div class=\"main_price\">Price: $56.68</div>\n",
    "   </div>\n",
    "</div>\n",
    "</body>\n",
    "\"\"\""
   ]
  },
  {
   "cell_type": "code",
   "execution_count": 24,
   "metadata": {},
   "outputs": [
    {
     "name": "stdout",
     "output_type": "stream",
     "text": [
      "Watch is selling for $66.68\n",
      "Watch2 is selling for $56.68\n"
     ]
    }
   ],
   "source": [
    "soup = BeautifulSoup(texto, \"html.parser\")\n",
    "for product in soup.find_all(\"div\", \"item\"):\n",
    "    product_title = product.find(\"li\").text \n",
    "    product_price = re.search(r'\\$\\d+\\.\\d+', product.find(\"div\", \"main_price\").text)[0]\n",
    "    print(f\"{product_title} is selling for {product_price}\")"
   ]
  },
  {
   "cell_type": "code",
   "execution_count": null,
   "metadata": {},
   "outputs": [],
   "source": []
  }
 ],
 "metadata": {
  "kernelspec": {
   "display_name": "Python 3 (ipykernel)",
   "language": "python",
   "name": "python3"
  },
  "language_info": {
   "codemirror_mode": {
    "name": "ipython",
    "version": 3
   },
   "file_extension": ".py",
   "mimetype": "text/x-python",
   "name": "python",
   "nbconvert_exporter": "python",
   "pygments_lexer": "ipython3",
   "version": "3.9.7"
  }
 },
 "nbformat": 4,
 "nbformat_minor": 4
}
