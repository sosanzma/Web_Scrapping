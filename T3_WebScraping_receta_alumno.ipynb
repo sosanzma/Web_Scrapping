{
 "cells": [
  {
   "cell_type": "markdown",
   "id": "compound-meeting",
   "metadata": {},
   "source": [
    "# Web Scraping con Python\n",
    "Vamos a usar las librerías [Requests](https://requests.kennethreitz.org/en/master/) y [BeautifulSoup](https://www.crummy.com/software/BeautifulSoup/bs4/doc/) para extraer los ingredientes de las recetas de [Directo a Paladar](https://www.directoalpaladar.com)"
   ]
  },
  {
   "cell_type": "code",
   "execution_count": 15,
   "id": "rolled-equity",
   "metadata": {},
   "outputs": [],
   "source": [
    "import requests\n",
    "from bs4 import BeautifulSoup"
   ]
  },
  {
   "cell_type": "code",
   "execution_count": 16,
   "id": "hearing-migration",
   "metadata": {},
   "outputs": [],
   "source": [
    "r = requests.get(\"https://www.directoalpaladar.com/postres/tortas-fritas-carnaval-suizas-fasnachtschuechli-receta-suiza-nombre-impronunciable-muy-similar-a-nuestras-orejas\")"
   ]
  },
  {
   "cell_type": "code",
   "execution_count": 23,
   "id": "casual-seeker",
   "metadata": {},
   "outputs": [],
   "source": [
    "soup = BeautifulSoup(r.text, \"html.parser\")"
   ]
  },
  {
   "cell_type": "code",
   "execution_count": 24,
   "id": "personal-insider",
   "metadata": {},
   "outputs": [],
   "source": [
    "#La receta está en\n",
    "receta = soup.div.find(class_=\"article-asset-recipe\")"
   ]
  },
  {
   "cell_type": "code",
   "execution_count": 7,
   "id": "immediate-festival",
   "metadata": {
    "jupyter": {
     "outputs_hidden": true
    }
   },
   "outputs": [
    {
     "data": {
      "text/plain": [
       "<div class=\"article-asset-recipe\">\n",
       "<div class=\"asset-recipe\">\n",
       "<div class=\"asset-recipe-meta\">\n",
       "<h2 class=\"asset-recipe-section-title\">Ingredientes</h2>\n",
       "<div class=\"asset-recipe-yield\">Para 6 unidades</div>\n",
       "<ul class=\"asset-recipe-list\">\n",
       "<li class=\"asset-recipe-list-item m-is-ingr\">\n",
       "<span class=\"asset-recipe-ingr-name\"><span>Mantequilla a temperatura ambiente</span></span>\n",
       "<span class=\"asset-recipe-ingr-amount\">15 <abbr title=\"gramos\">g</abbr></span>\n",
       "</li>\n",
       "<li class=\"asset-recipe-list-item m-is-ingr\">\n",
       "<span class=\"asset-recipe-ingr-name\"><span>Huevo a temperatura ambiente</span></span>\n",
       "<span class=\"asset-recipe-ingr-amount\">1 <abbr title=\"\"></abbr></span>\n",
       "</li>\n",
       "<li class=\"asset-recipe-list-item m-is-ingr\">\n",
       "<span class=\"asset-recipe-ingr-name\"><span>Azúcar vainillado (o normal)</span></span>\n",
       "<span class=\"asset-recipe-ingr-amount\">15 <abbr title=\"gramos\">g</abbr></span>\n",
       "</li>\n",
       "<li class=\"asset-recipe-list-item m-is-ingr\">\n",
       "<span class=\"asset-recipe-ingr-name\"><span>Leche a temperatura ambiente</span></span>\n",
       "<span class=\"asset-recipe-ingr-amount\">45 <abbr title=\"gramos\">g</abbr></span>\n",
       "</li>\n",
       "<li class=\"asset-recipe-list-item m-is-ingr m-no-amount\">\n",
       "<span class=\"asset-recipe-ingr-name\"><span>Ralladura de naranja al gusto</span></span>\n",
       "</li>\n",
       "<li class=\"asset-recipe-list-item m-is-ingr\">\n",
       "<span class=\"asset-recipe-ingr-name\"><span>Harina de repostería y algo más para estirar</span></span>\n",
       "<span class=\"asset-recipe-ingr-amount\">150 <abbr title=\"gramos\">g</abbr></span>\n",
       "</li>\n",
       "<li class=\"asset-recipe-list-item m-is-ingr\">\n",
       "<span class=\"asset-recipe-ingr-name\"><span>Sal </span></span>\n",
       "<span class=\"asset-recipe-ingr-amount\">2 <abbr title=\"gramos\">g</abbr></span>\n",
       "</li>\n",
       "<li class=\"asset-recipe-list-item m-is-ingr m-no-amount\">\n",
       "<span class=\"asset-recipe-ingr-name\"><span>Aceite de oliva virgen extra o girasol para freír</span></span>\n",
       "</li>\n",
       "<li class=\"asset-recipe-list-item m-is-ingr m-no-amount\">\n",
       "<span class=\"asset-recipe-ingr-name\"><span>Azúcar glasé para espolvorear</span></span>\n",
       "</li>\n",
       "</ul>\n",
       "<h2 class=\"asset-recipe-section-title\">Cómo hacer tortas fritas de Carnaval o Fasnachtschüechli</h2>\n",
       "<div class=\"asset-recipe-difficulty\">Dificultad: Media</div>\n",
       "<ul class=\"asset-recipe-list\">\n",
       "<li class=\"asset-recipe-list-item m-is-totaltime\">\n",
       "<span class=\"asset-recipe-time-name\"><span>Tiempo total</span></span>\n",
       "<span class=\"asset-recipe-time-value\">50 <abbr title=\"minutos\">m</abbr></span>\n",
       "</li>\n",
       "<li class=\"asset-recipe-list-item m-is-preptime\">\n",
       "<span class=\"asset-recipe-time-name\"><span>Elaboración</span></span>\n",
       "<span class=\"asset-recipe-time-value\">30 <abbr title=\"minutos\">m</abbr></span>\n",
       "</li>\n",
       "<li class=\"asset-recipe-list-item m-is-cooktime\">\n",
       "<span class=\"asset-recipe-time-name\"><span>Cocción</span></span>\n",
       "<span class=\"asset-recipe-time-value\">20 <abbr title=\"minutos\">m</abbr></span>\n",
       "</li>\n",
       "<li class=\"asset-recipe-list-item m-is-preptime\">\n",
       "<span class=\"asset-recipe-time-name\"><span>Reposo</span></span>\n",
       "<span class=\"asset-recipe-time-value\">2 <abbr title=\"hora\">h </abbr></span>\n",
       "</li>\n",
       "</ul>\n",
       "</div>\n",
       "<div class=\"asset-recipe-steps\">\n",
       "<div class=\"js-post-images-container\">\n",
       "<p>Sacar todos los ingredientes de la nevera un buen rato antes para que estén atemperados. Cortar la mantequilla en cubos y batirla con el azúcar y ralladura de naranja en un recipiente con unas <strong>varillas eléctricas</strong>. Cuando empiece a estar cremosa, añadir el huevo, la leche, la sal y la harina, y seguir batiendo hasta homogeneizar.</p>\n",
       "<p>La masa estará muy pegajosa; hay que intentar no añadir harina. Tapar y dejar reposar 20 minutos. Empezar a amasar, mezclando primero con una espátula o rasqueta, con energía, y alternando con pequeños reposos para hacerla más manejable. Usar una amasadora si se tiene. Una vez se obtenga una <strong>textura blanda, lisa y homogénea</strong>, formar una bola, envolver en plástico film y dejar en la nevera, como mínimo, dos horas. Es mejor toda la noche. </p>\n",
       "<!-- BREAK 4 -->\n",
       "<div class=\"article-asset-image article-asset-normal\"><div class=\"asset-content\"> <div class=\"base-wrapper-image\" style=\"padding-top: 100%;\"> <img alt=\"Fasnachtschuechli Pasos\" class=\"sf-lazy centro_sinmarco\" data-sf-src=\"https://i.blogs.es/ffb7f0/fasnachtschuechli-pasos/450_1000.jpg\" data-sf-srcset=\"https://i.blogs.es/ffb7f0/fasnachtschuechli-pasos/450_1000.jpg 450w, https://i.blogs.es/ffb7f0/fasnachtschuechli-pasos/650_1200.jpg 681w, https://i.blogs.es/ffb7f0/fasnachtschuechli-pasos/1024_2000.jpg 1024w, https://i.blogs.es/ffb7f0/fasnachtschuechli-pasos/1366_2000.jpg 1366w\"/><noscript><img alt=\"Fasnachtschuechli Pasos\" src=\"https://i.blogs.es/ffb7f0/fasnachtschuechli-pasos/450_1000.jpg\"/></noscript> </div> </div></div>\n",
       "<p>Sacar la masa, pesar y dividir en seis porciones idénticas. <strong>Reamasar cada una por separado y formar bolas</strong>. Tapar las que no se estén usando para que no se resequen, con un paño o con film. Poner a calentar una sartén con abundante aceite, a temperatura media para que no se nos queme mientras estiramos las masas.</p>\n",
       "<!-- BREAK 5 -->\n",
       "<p>Sobre la mesa enharinada, y enharinando o engrasando el rodillo, estirar muy, muy bien cada porción, dándole la vuelta varias veces. <strong>Terminar de estirar usando las manos</strong>, con cuidado de que no se rompa, hasta que casi sea transparente.</p>\n",
       "<!-- BREAK 6 -->\n",
       "<div class=\"article-asset-image article-asset-normal\"><div class=\"asset-content\"> <div class=\"base-wrapper-image\" style=\"padding-top: 100%;\"> <img alt=\"Fasnachtschuechli Pasos2\" class=\"sf-lazy centro_sinmarco\" data-sf-src=\"https://i.blogs.es/5fb98e/fasnachtschuechli-pasos2/450_1000.jpg\" data-sf-srcset=\"https://i.blogs.es/5fb98e/fasnachtschuechli-pasos2/450_1000.jpg 450w, https://i.blogs.es/5fb98e/fasnachtschuechli-pasos2/650_1200.jpg 681w, https://i.blogs.es/5fb98e/fasnachtschuechli-pasos2/1024_2000.jpg 1024w, https://i.blogs.es/5fb98e/fasnachtschuechli-pasos2/1366_2000.jpg 1366w\"/><noscript><img alt=\"Fasnachtschuechli Pasos2\" src=\"https://i.blogs.es/5fb98e/fasnachtschuechli-pasos2/450_1000.jpg\"/></noscript> </div> </div></div>\n",
       "<p>Una vez <strong>el aceite esté a unos 180ºC</strong>, freír cada porción hasta que se dore al gusto. Con dos brochetas de madera es fácil ayudar a la masa a coger forma y hundirla para que se vaya friendo mejor. Dar la vuelta y dorar por el otro lado; retirar a un plato con papel de cocina.</p>\n",
       "<!-- BREAK 7 -->\n",
       "<p>Continuar el proceso con el resto de masas, siempre vigilando que el aceite no humee o se vuelva negro. <strong>Mucho cuidado al retirarlas</strong> de la sartén, pues son muy delicadas, si se han estirado bien. Servir espolvoreadas con azúcar glasé.</p>\n",
       "<!-- BREAK 8 -->\n",
       "</div>\n",
       "</div>\n",
       "</div>\n",
       "</div>"
      ]
     },
     "execution_count": 7,
     "metadata": {},
     "output_type": "execute_result"
    }
   ],
   "source": [
    "receta"
   ]
  },
  {
   "cell_type": "code",
   "execution_count": 8,
   "id": "exclusive-hardware",
   "metadata": {},
   "outputs": [
    {
     "name": "stdout",
     "output_type": "stream",
     "text": [
      "0 <h2 class=\"asset-recipe-section-title\">Ingredientes</h2>\n",
      "1 <h2 class=\"asset-recipe-section-title\">Cómo hacer tortas fritas de Carnaval o Fasnachtschüechli</h2>\n"
     ]
    }
   ],
   "source": [
    "#la lista de ingredientes está en un <ul> a continuación del <h2> de ingredientes\n",
    "contenidos = receta.find_all(\"h2\")\n",
    "for i,c in enumerate(contenidos):\n",
    "    print(i, c)"
   ]
  },
  {
   "cell_type": "code",
   "execution_count": 9,
   "id": "joint-hotel",
   "metadata": {},
   "outputs": [],
   "source": [
    "def ingredientes(tag):\n",
    "    return(tag.name==\"h2\" and tag.string==\"Ingredientes\")"
   ]
  },
  {
   "cell_type": "code",
   "execution_count": 10,
   "id": "soviet-strap",
   "metadata": {},
   "outputs": [
    {
     "data": {
      "text/plain": [
       "<h2 class=\"asset-recipe-section-title\">Ingredientes</h2>"
      ]
     },
     "execution_count": 10,
     "metadata": {},
     "output_type": "execute_result"
    }
   ],
   "source": [
    "receta.find(ingredientes)"
   ]
  },
  {
   "cell_type": "code",
   "execution_count": 11,
   "id": "arranged-daughter",
   "metadata": {},
   "outputs": [
    {
     "data": {
      "text/plain": [
       "<ul class=\"asset-recipe-list\">\n",
       "<li class=\"asset-recipe-list-item m-is-ingr\">\n",
       "<span class=\"asset-recipe-ingr-name\"><span>Mantequilla a temperatura ambiente</span></span>\n",
       "<span class=\"asset-recipe-ingr-amount\">15 <abbr title=\"gramos\">g</abbr></span>\n",
       "</li>\n",
       "<li class=\"asset-recipe-list-item m-is-ingr\">\n",
       "<span class=\"asset-recipe-ingr-name\"><span>Huevo a temperatura ambiente</span></span>\n",
       "<span class=\"asset-recipe-ingr-amount\">1 <abbr title=\"\"></abbr></span>\n",
       "</li>\n",
       "<li class=\"asset-recipe-list-item m-is-ingr\">\n",
       "<span class=\"asset-recipe-ingr-name\"><span>Azúcar vainillado (o normal)</span></span>\n",
       "<span class=\"asset-recipe-ingr-amount\">15 <abbr title=\"gramos\">g</abbr></span>\n",
       "</li>\n",
       "<li class=\"asset-recipe-list-item m-is-ingr\">\n",
       "<span class=\"asset-recipe-ingr-name\"><span>Leche a temperatura ambiente</span></span>\n",
       "<span class=\"asset-recipe-ingr-amount\">45 <abbr title=\"gramos\">g</abbr></span>\n",
       "</li>\n",
       "<li class=\"asset-recipe-list-item m-is-ingr m-no-amount\">\n",
       "<span class=\"asset-recipe-ingr-name\"><span>Ralladura de naranja al gusto</span></span>\n",
       "</li>\n",
       "<li class=\"asset-recipe-list-item m-is-ingr\">\n",
       "<span class=\"asset-recipe-ingr-name\"><span>Harina de repostería y algo más para estirar</span></span>\n",
       "<span class=\"asset-recipe-ingr-amount\">150 <abbr title=\"gramos\">g</abbr></span>\n",
       "</li>\n",
       "<li class=\"asset-recipe-list-item m-is-ingr\">\n",
       "<span class=\"asset-recipe-ingr-name\"><span>Sal </span></span>\n",
       "<span class=\"asset-recipe-ingr-amount\">2 <abbr title=\"gramos\">g</abbr></span>\n",
       "</li>\n",
       "<li class=\"asset-recipe-list-item m-is-ingr m-no-amount\">\n",
       "<span class=\"asset-recipe-ingr-name\"><span>Aceite de oliva virgen extra o girasol para freír</span></span>\n",
       "</li>\n",
       "<li class=\"asset-recipe-list-item m-is-ingr m-no-amount\">\n",
       "<span class=\"asset-recipe-ingr-name\"><span>Azúcar glasé para espolvorear</span></span>\n",
       "</li>\n",
       "</ul>"
      ]
     },
     "execution_count": 11,
     "metadata": {},
     "output_type": "execute_result"
    }
   ],
   "source": [
    "receta.find(ingredientes).find_next_siblings(\"ul\")[0]"
   ]
  },
  {
   "cell_type": "code",
   "execution_count": 30,
   "id": "boolean-chaos",
   "metadata": {},
   "outputs": [
    {
     "data": {
      "text/plain": [
       "[<li class=\"asset-recipe-list-item m-is-ingr\">\n",
       " <span class=\"asset-recipe-ingr-name\"><span>Mantequilla a temperatura ambiente</span></span>\n",
       " <span class=\"asset-recipe-ingr-amount\">15 <abbr title=\"gramos\">g</abbr></span>\n",
       " </li>,\n",
       " <li class=\"asset-recipe-list-item m-is-ingr\">\n",
       " <span class=\"asset-recipe-ingr-name\"><span>Huevo a temperatura ambiente</span></span>\n",
       " <span class=\"asset-recipe-ingr-amount\">1 <abbr title=\"\"></abbr></span>\n",
       " </li>,\n",
       " <li class=\"asset-recipe-list-item m-is-ingr\">\n",
       " <span class=\"asset-recipe-ingr-name\"><span>Azúcar vainillado (o normal)</span></span>\n",
       " <span class=\"asset-recipe-ingr-amount\">15 <abbr title=\"gramos\">g</abbr></span>\n",
       " </li>,\n",
       " <li class=\"asset-recipe-list-item m-is-ingr\">\n",
       " <span class=\"asset-recipe-ingr-name\"><span>Leche a temperatura ambiente</span></span>\n",
       " <span class=\"asset-recipe-ingr-amount\">45 <abbr title=\"gramos\">g</abbr></span>\n",
       " </li>,\n",
       " <li class=\"asset-recipe-list-item m-is-ingr m-no-amount\">\n",
       " <span class=\"asset-recipe-ingr-name\"><span>Ralladura de naranja al gusto</span></span>\n",
       " </li>,\n",
       " <li class=\"asset-recipe-list-item m-is-ingr\">\n",
       " <span class=\"asset-recipe-ingr-name\"><span>Harina de repostería y algo más para estirar</span></span>\n",
       " <span class=\"asset-recipe-ingr-amount\">150 <abbr title=\"gramos\">g</abbr></span>\n",
       " </li>,\n",
       " <li class=\"asset-recipe-list-item m-is-ingr\">\n",
       " <span class=\"asset-recipe-ingr-name\"><span>Sal </span></span>\n",
       " <span class=\"asset-recipe-ingr-amount\">2 <abbr title=\"gramos\">g</abbr></span>\n",
       " </li>,\n",
       " <li class=\"asset-recipe-list-item m-is-ingr m-no-amount\">\n",
       " <span class=\"asset-recipe-ingr-name\"><span>Aceite de oliva virgen extra o girasol para freír</span></span>\n",
       " </li>,\n",
       " <li class=\"asset-recipe-list-item m-is-ingr m-no-amount\">\n",
       " <span class=\"asset-recipe-ingr-name\"><span>Azúcar glasé para espolvorear</span></span>\n",
       " </li>]"
      ]
     },
     "execution_count": 30,
     "metadata": {},
     "output_type": "execute_result"
    }
   ],
   "source": [
    "#podemos buscar simplemente\n",
    "receta.find_all(class_=\"m-is-ingr\")\n"
   ]
  },
  {
   "cell_type": "code",
   "execution_count": 13,
   "id": "amber-universal",
   "metadata": {},
   "outputs": [
    {
     "data": {
      "text/plain": [
       "[{'nombre': 'Mantequilla a temperatura ambiente',\n",
       "  'cantidad': '15',\n",
       "  'unidades': 'gramos'},\n",
       " {'nombre': 'Huevo a temperatura ambiente', 'cantidad': '1', 'unidades': ''},\n",
       " {'nombre': 'Azúcar vainillado (o normal)',\n",
       "  'cantidad': '15',\n",
       "  'unidades': 'gramos'},\n",
       " {'nombre': 'Leche a temperatura ambiente',\n",
       "  'cantidad': '45',\n",
       "  'unidades': 'gramos'},\n",
       " {'nombre': 'Ralladura de naranja al gusto', 'cantidad': '', 'unidades': ''},\n",
       " {'nombre': 'Harina de repostería y algo más para estirar',\n",
       "  'cantidad': '150',\n",
       "  'unidades': 'gramos'},\n",
       " {'nombre': 'Sal ', 'cantidad': '2', 'unidades': 'gramos'},\n",
       " {'nombre': 'Aceite de oliva virgen extra o girasol para freír',\n",
       "  'cantidad': '',\n",
       "  'unidades': ''},\n",
       " {'nombre': 'Azúcar glasé para espolvorear', 'cantidad': '', 'unidades': ''}]"
      ]
     },
     "execution_count": 13,
     "metadata": {},
     "output_type": "execute_result"
    }
   ],
   "source": [
    "import re\n",
    "\n",
    "lista = []\n",
    "for i in receta.find_all(\"li\", class_=\"m-is-ingr\"):\n",
    "    nombre = i.find(\"span\", \"asset-recipe-ingr-name\").span.text\n",
    "    span_cantidad = i.find(\"span\", \"asset-recipe-ingr-amount\")\n",
    "    if span_cantidad:\n",
    "        cantidad = re.search(r\"\\d+\", span_cantidad.text)[0]\n",
    "        if span_cantidad.find(\"abbr\"):\n",
    "            unidades = span_cantidad.abbr[\"title\"]\n",
    "        else:\n",
    "            unidades = \"\"\n",
    "    else:\n",
    "        cantidad = \"\"\n",
    "        unidades = \"\"\n",
    "    lista.append({\n",
    "        \"nombre\" : nombre,\n",
    "        \"cantidad\" : cantidad,\n",
    "        \"unidades\" : unidades\n",
    "        })\n",
    "lista"
   ]
  },
  {
   "cell_type": "code",
   "execution_count": 14,
   "id": "meaning-translation",
   "metadata": {},
   "outputs": [
    {
     "data": {
      "text/html": [
       "<div>\n",
       "<style scoped>\n",
       "    .dataframe tbody tr th:only-of-type {\n",
       "        vertical-align: middle;\n",
       "    }\n",
       "\n",
       "    .dataframe tbody tr th {\n",
       "        vertical-align: top;\n",
       "    }\n",
       "\n",
       "    .dataframe thead th {\n",
       "        text-align: right;\n",
       "    }\n",
       "</style>\n",
       "<table border=\"1\" class=\"dataframe\">\n",
       "  <thead>\n",
       "    <tr style=\"text-align: right;\">\n",
       "      <th></th>\n",
       "      <th>nombre</th>\n",
       "      <th>cantidad</th>\n",
       "      <th>unidades</th>\n",
       "    </tr>\n",
       "  </thead>\n",
       "  <tbody>\n",
       "    <tr>\n",
       "      <th>0</th>\n",
       "      <td>Mantequilla a temperatura ambiente</td>\n",
       "      <td>15</td>\n",
       "      <td>gramos</td>\n",
       "    </tr>\n",
       "    <tr>\n",
       "      <th>1</th>\n",
       "      <td>Huevo a temperatura ambiente</td>\n",
       "      <td>1</td>\n",
       "      <td></td>\n",
       "    </tr>\n",
       "    <tr>\n",
       "      <th>2</th>\n",
       "      <td>Azúcar vainillado (o normal)</td>\n",
       "      <td>15</td>\n",
       "      <td>gramos</td>\n",
       "    </tr>\n",
       "    <tr>\n",
       "      <th>3</th>\n",
       "      <td>Leche a temperatura ambiente</td>\n",
       "      <td>45</td>\n",
       "      <td>gramos</td>\n",
       "    </tr>\n",
       "    <tr>\n",
       "      <th>4</th>\n",
       "      <td>Ralladura de naranja al gusto</td>\n",
       "      <td></td>\n",
       "      <td></td>\n",
       "    </tr>\n",
       "    <tr>\n",
       "      <th>5</th>\n",
       "      <td>Harina de repostería y algo más para estirar</td>\n",
       "      <td>150</td>\n",
       "      <td>gramos</td>\n",
       "    </tr>\n",
       "    <tr>\n",
       "      <th>6</th>\n",
       "      <td>Sal</td>\n",
       "      <td>2</td>\n",
       "      <td>gramos</td>\n",
       "    </tr>\n",
       "    <tr>\n",
       "      <th>7</th>\n",
       "      <td>Aceite de oliva virgen extra o girasol para freír</td>\n",
       "      <td></td>\n",
       "      <td></td>\n",
       "    </tr>\n",
       "    <tr>\n",
       "      <th>8</th>\n",
       "      <td>Azúcar glasé para espolvorear</td>\n",
       "      <td></td>\n",
       "      <td></td>\n",
       "    </tr>\n",
       "  </tbody>\n",
       "</table>\n",
       "</div>"
      ],
      "text/plain": [
       "                                              nombre cantidad unidades\n",
       "0                 Mantequilla a temperatura ambiente       15   gramos\n",
       "1                       Huevo a temperatura ambiente        1         \n",
       "2                       Azúcar vainillado (o normal)       15   gramos\n",
       "3                       Leche a temperatura ambiente       45   gramos\n",
       "4                      Ralladura de naranja al gusto                  \n",
       "5       Harina de repostería y algo más para estirar      150   gramos\n",
       "6                                               Sal         2   gramos\n",
       "7  Aceite de oliva virgen extra o girasol para freír                  \n",
       "8                      Azúcar glasé para espolvorear                  "
      ]
     },
     "execution_count": 14,
     "metadata": {},
     "output_type": "execute_result"
    }
   ],
   "source": [
    "import pandas as pd\n",
    "\n",
    "pd.DataFrame(lista)"
   ]
  },
  {
   "cell_type": "markdown",
   "id": "bdab88a1",
   "metadata": {},
   "source": [
    "#### Ejercicio 1.- Obtener en un dataframe los tiempos de elaboración de las tortitas de carnaval "
   ]
  },
  {
   "cell_type": "code",
   "execution_count": null,
   "id": "6584349b",
   "metadata": {},
   "outputs": [],
   "source": []
  }
 ],
 "metadata": {
  "kernelspec": {
   "display_name": "Python 3 (ipykernel)",
   "language": "python",
   "name": "python3"
  },
  "language_info": {
   "codemirror_mode": {
    "name": "ipython",
    "version": 3
   },
   "file_extension": ".py",
   "mimetype": "text/x-python",
   "name": "python",
   "nbconvert_exporter": "python",
   "pygments_lexer": "ipython3",
   "version": "3.9.6"
  }
 },
 "nbformat": 4,
 "nbformat_minor": 5
}
