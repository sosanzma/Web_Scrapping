{
 "cells": [
  {
   "cell_type": "markdown",
   "metadata": {},
   "source": [
    "# Web Scraping con Python (II)\n",
    "Vamos a usar la librería [Selenium](https://www.selenium.dev/) para hacer web scraping. Instalación (en Anaconda):\n",
    "```\n",
    "conda install -c conda-forge selenium\n",
    "\n",
    "```\n",
    "o con pip:\n",
    "\n",
    "```\n",
    "pip install selenium\n",
    "\n",
    "```\n",
    " "
   ]
  },
  {
   "cell_type": "markdown",
   "metadata": {},
   "source": [
    "## Librería Selenium"
   ]
  },
  {
   "cell_type": "code",
   "execution_count": 1,
   "metadata": {},
   "outputs": [],
   "source": [
    "from selenium import webdriver\n",
    "from selenium.webdriver.common.keys import Keys\n",
    "from selenium.webdriver.common.by import By \n",
    "import pandas as pd"
   ]
  },
  {
   "cell_type": "markdown",
   "metadata": {},
   "source": [
    "Un `WebDriver` sirve para navegar en un navegador de forma nativa, como lo haría un usuario, bien localmente, bien de manera remota utilizando un servidor selenium. Según el navegador que utilices y la versión, deberás descargarte el webdriver asociado. Por ejemplo para Chrome: https://chromedriver.chromium.org/downloads"
   ]
  },
  {
   "cell_type": "code",
   "execution_count": 4,
   "metadata": {},
   "outputs": [],
   "source": [
    "driver = webdriver.Firefox()"
   ]
  },
  {
   "cell_type": "markdown",
   "metadata": {},
   "source": [
    "### Página de test de IDAL"
   ]
  },
  {
   "cell_type": "code",
   "execution_count": 27,
   "metadata": {},
   "outputs": [],
   "source": [
    "driver.get(\"https://idal.uv.es/ejemplo.html\")"
   ]
  },
  {
   "cell_type": "code",
   "execution_count": 28,
   "metadata": {},
   "outputs": [
    {
     "data": {
      "text/plain": [
       "'Enlace 2'"
      ]
     },
     "execution_count": 28,
     "metadata": {},
     "output_type": "execute_result"
    }
   ],
   "source": [
    "enlace2=driver.find_elements(By.XPATH,\"//div[@class='col-sm-4']/a[@class='btn']\");\n",
    "enlace2[1].text"
   ]
  },
  {
   "cell_type": "code",
   "execution_count": 29,
   "metadata": {},
   "outputs": [
    {
     "name": "stdout",
     "output_type": "stream",
     "text": [
      "Columna 3\n",
      "Lorem ipsum dolor sit amet, consectetur adipisicing elit...\n",
      "Ut enim ad minim veniam, quis nostrud exercitation ullamco laboris...\n",
      "Enlace 3\n"
     ]
    }
   ],
   "source": [
    "test=driver.find_element(By.ID,\"col4\")\n",
    "print(test.text)"
   ]
  },
  {
   "cell_type": "code",
   "execution_count": 30,
   "metadata": {},
   "outputs": [
    {
     "name": "stdout",
     "output_type": "stream",
     "text": [
      "Columna 1\n"
     ]
    }
   ],
   "source": [
    "col=driver.find_element(By.XPATH,\"//div[@class='container']/*/*/h3\")\n",
    "print(col.text)"
   ]
  },
  {
   "cell_type": "code",
   "execution_count": 31,
   "metadata": {},
   "outputs": [
    {
     "name": "stdout",
     "output_type": "stream",
     "text": [
      "Intelligent Data Analysis Laboratory\n"
     ]
    }
   ],
   "source": [
    "idal=driver.find_element(By.XPATH,\"//a[contains(@href, 'idal')]\");\n",
    "print(idal.text)"
   ]
  },
  {
   "cell_type": "code",
   "execution_count": 32,
   "metadata": {},
   "outputs": [
    {
     "name": "stdout",
     "output_type": "stream",
     "text": [
      "Escola Tècnica Superior d'Enginyeria\n"
     ]
    }
   ],
   "source": [
    "etse=driver.find_element(By.XPATH,\"//a[starts-with(@href, 'http://etse')]\");\n",
    "print(etse.text)"
   ]
  },
  {
   "cell_type": "code",
   "execution_count": 34,
   "metadata": {},
   "outputs": [
    {
     "name": "stdout",
     "output_type": "stream",
     "text": [
      "Universitat de València\n"
     ]
    }
   ],
   "source": [
    "enlaces = driver.find_elements(By.XPATH,\"//a\")\n",
    "print(enlaces[5].text)  "
   ]
  },
  {
   "cell_type": "code",
   "execution_count": 35,
   "metadata": {},
   "outputs": [
    {
     "name": "stdout",
     "output_type": "stream",
     "text": [
      "UV\n"
     ]
    }
   ],
   "source": [
    "print(enlaces[5].get_attribute(\"title\"))"
   ]
  },
  {
   "cell_type": "markdown",
   "metadata": {},
   "source": [
    "### Salarios de jugadores de baloncesto"
   ]
  },
  {
   "cell_type": "markdown",
   "metadata": {},
   "source": [
    "El siguiente código abre la página web que queremos leer."
   ]
  },
  {
   "cell_type": "code",
   "execution_count": 22,
   "metadata": {},
   "outputs": [],
   "source": [
    "driver.get('https://hoopshype.com/salaries/players/')"
   ]
  },
  {
   "cell_type": "markdown",
   "metadata": {},
   "source": [
    "Para extraer la información que necesitamos tenemos que localizar el  XPath del elemento. El XPath es la sintaxis utilizada para encontrar cualquier elemento en la página web. Para localizar el elemento, subrallamos el elemento que nos interesa extraer, clicamos en el botón derecho y seleccionamos \"inspeccionar\", lo que nos abrirá las herramientas de desarrollador en la parte derecha del navegador.\n",
    "\n",
    "Si seleccionamos el primer nombre de la lista, vemos en las herramientas de desarrollador el nombre que hemos seleccionado, que corresponde con `<td class=\"name\">`. Hacemos lo mismo con el segundo y vemos que también corresponde con esta etiqueta.\n",
    "\n",
    "Buscamos ahora todos los jugadores con selenium. La sintaxis para XPATH es `Xpath =//tagname[@Attribute=\"value\"]`. // significa que busque en todo el documento. El `tagname` es el nombre del tag que tiene un id de atributo igual a \"value\". "
   ]
  },
  {
   "cell_type": "code",
   "execution_count": 23,
   "metadata": {},
   "outputs": [],
   "source": [
    "jugadores = driver.find_elements(By.XPATH,'//td[@class=\"name\"]')"
   ]
  },
  {
   "cell_type": "markdown",
   "metadata": {},
   "source": [
    "Obtenemos los nombres de cada jugador en una lista:"
   ]
  },
  {
   "cell_type": "code",
   "execution_count": 24,
   "metadata": {},
   "outputs": [],
   "source": [
    "lista_jugadores = []\n",
    "for p in range(len(jugadores)):\n",
    "    if jugadores[p].text:\n",
    "        lista_jugadores.append(jugadores[p].text)"
   ]
  },
  {
   "cell_type": "code",
   "execution_count": null,
   "metadata": {},
   "outputs": [],
   "source": [
    "print(lista_jugadores)"
   ]
  },
  {
   "cell_type": "markdown",
   "metadata": {},
   "source": [
    "Seguimos el mismo procedimiento para obtener los salarios."
   ]
  },
  {
   "cell_type": "code",
   "execution_count": 113,
   "metadata": {},
   "outputs": [],
   "source": [
    "salarios = driver.find_elements(By.XPATH,'//td[@class=\"hh-salaries-sorted\"]')"
   ]
  },
  {
   "cell_type": "code",
   "execution_count": 114,
   "metadata": {},
   "outputs": [],
   "source": [
    "lista_salarios = []\n",
    "for s in range(len(salarios)):\n",
    "    if salarios[s].text:\n",
    "        lista_salarios.append(salarios[s].text)"
   ]
  },
  {
   "cell_type": "code",
   "execution_count": null,
   "metadata": {},
   "outputs": [],
   "source": [
    "print(lista_salarios)"
   ]
  },
  {
   "cell_type": "markdown",
   "metadata": {},
   "source": [
    "Creamos un dataframe con los nombres y los salarios por anualidades."
   ]
  },
  {
   "cell_type": "code",
   "execution_count": 3,
   "metadata": {},
   "outputs": [],
   "source": [
    "df = pd.DataFrame() # crea el dataframe\n",
    "\n",
    "driver = webdriver.Chrome('chromedriver')\n",
    "\n",
    "for yr in range(2018,2021):\n",
    "    page_num = str(yr) + '-' + str(yr+1) +'/'\n",
    "    url = 'https://hoopshype.com/salaries/players/' + page_num\n",
    "    driver.get(url)\n",
    "    \n",
    "    jugadores = driver.find_elements(By.XPATH,'//td[@class=\"name\"]')\n",
    "    salarios = driver.find_elements(By.XPATH,'//td[@class=\"hh-salaries-sorted\"]')\n",
    "    \n",
    "    lista_jugadores = []\n",
    "    for p in range(len(jugadores)):\n",
    "        if jugadores[p].text:\n",
    "            lista_jugadores.append(jugadores[p].text)\n",
    "    \n",
    "    lista_salarios = []\n",
    "    for s in range(len(salarios)):\n",
    "        if salarios[s].text:\n",
    "            lista_salarios.append(salarios[s].text)\n",
    "    \n",
    "    jugadorYr = 'Jugador'+str(yr)\n",
    "    salarioYr = 'Salario'+str(yr)\n",
    "\n",
    "    df[jugadorYr] = lista_jugadores[1:500]\n",
    "    df[salarioYr] = lista_salarios[1:500]\n",
    "           \n",
    "driver.close()"
   ]
  },
  {
   "cell_type": "code",
   "execution_count": 4,
   "metadata": {},
   "outputs": [
    {
     "data": {
      "text/html": [
       "<div>\n",
       "<style scoped>\n",
       "    .dataframe tbody tr th:only-of-type {\n",
       "        vertical-align: middle;\n",
       "    }\n",
       "\n",
       "    .dataframe tbody tr th {\n",
       "        vertical-align: top;\n",
       "    }\n",
       "\n",
       "    .dataframe thead th {\n",
       "        text-align: right;\n",
       "    }\n",
       "</style>\n",
       "<table border=\"1\" class=\"dataframe\">\n",
       "  <thead>\n",
       "    <tr style=\"text-align: right;\">\n",
       "      <th></th>\n",
       "      <th>Jugador2018</th>\n",
       "      <th>Salario2018</th>\n",
       "      <th>Jugador2019</th>\n",
       "      <th>Salario2019</th>\n",
       "      <th>Jugador2020</th>\n",
       "      <th>Salario2020</th>\n",
       "    </tr>\n",
       "  </thead>\n",
       "  <tbody>\n",
       "    <tr>\n",
       "      <th>0</th>\n",
       "      <td>Stephen Curry</td>\n",
       "      <td>$37,457,154</td>\n",
       "      <td>Stephen Curry</td>\n",
       "      <td>$40,231,758</td>\n",
       "      <td>Stephen Curry</td>\n",
       "      <td>$43,006,362</td>\n",
       "    </tr>\n",
       "    <tr>\n",
       "      <th>1</th>\n",
       "      <td>Russell Westbrook</td>\n",
       "      <td>$35,665,000</td>\n",
       "      <td>Chris Paul</td>\n",
       "      <td>$38,506,482</td>\n",
       "      <td>Russell Westbrook</td>\n",
       "      <td>$41,358,814</td>\n",
       "    </tr>\n",
       "    <tr>\n",
       "      <th>2</th>\n",
       "      <td>LeBron James</td>\n",
       "      <td>$35,654,150</td>\n",
       "      <td>Russell Westbrook</td>\n",
       "      <td>$38,506,482</td>\n",
       "      <td>Chris Paul</td>\n",
       "      <td>$41,358,814</td>\n",
       "    </tr>\n",
       "    <tr>\n",
       "      <th>3</th>\n",
       "      <td>Chris Paul</td>\n",
       "      <td>$35,654,150</td>\n",
       "      <td>John Wall</td>\n",
       "      <td>$38,199,000</td>\n",
       "      <td>John Wall</td>\n",
       "      <td>$41,254,920</td>\n",
       "    </tr>\n",
       "    <tr>\n",
       "      <th>4</th>\n",
       "      <td>Kyle Lowry</td>\n",
       "      <td>$32,700,000</td>\n",
       "      <td>James Harden</td>\n",
       "      <td>$38,199,000</td>\n",
       "      <td>James Harden</td>\n",
       "      <td>$41,254,920</td>\n",
       "    </tr>\n",
       "  </tbody>\n",
       "</table>\n",
       "</div>"
      ],
      "text/plain": [
       "         Jugador2018  Salario2018        Jugador2019  Salario2019  \\\n",
       "0      Stephen Curry  $37,457,154      Stephen Curry  $40,231,758   \n",
       "1  Russell Westbrook  $35,665,000         Chris Paul  $38,506,482   \n",
       "2       LeBron James  $35,654,150  Russell Westbrook  $38,506,482   \n",
       "3         Chris Paul  $35,654,150          John Wall  $38,199,000   \n",
       "4         Kyle Lowry  $32,700,000       James Harden  $38,199,000   \n",
       "\n",
       "         Jugador2020  Salario2020  \n",
       "0      Stephen Curry  $43,006,362  \n",
       "1  Russell Westbrook  $41,358,814  \n",
       "2         Chris Paul  $41,358,814  \n",
       "3          John Wall  $41,254,920  \n",
       "4       James Harden  $41,254,920  "
      ]
     },
     "execution_count": 4,
     "metadata": {},
     "output_type": "execute_result"
    }
   ],
   "source": [
    "df.head(5)"
   ]
  }
 ],
 "metadata": {
  "kernelspec": {
   "display_name": "Python 3 (ipykernel)",
   "language": "python",
   "name": "python3"
  },
  "language_info": {
   "codemirror_mode": {
    "name": "ipython",
    "version": 3
   },
   "file_extension": ".py",
   "mimetype": "text/x-python",
   "name": "python",
   "nbconvert_exporter": "python",
   "pygments_lexer": "ipython3",
   "version": "3.9.7"
  }
 },
 "nbformat": 4,
 "nbformat_minor": 4
}
